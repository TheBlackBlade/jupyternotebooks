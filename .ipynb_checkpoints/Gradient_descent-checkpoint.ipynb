{
 "cells": [
  {
   "cell_type": "code",
   "execution_count": null,
   "metadata": {},
   "outputs": [],
   "source": [
    "import random\n",
    "import sympy\n",
    "import numpy as np\n",
    "import math as m\n",
    "import plotly as plt"
   ]
  },
  {
   "cell_type": "markdown",
   "metadata": {},
   "source": [
    "# GD for single variable, analytic"
   ]
  },
  {
   "cell_type": "code",
   "execution_count": null,
   "metadata": {},
   "outputs": [],
   "source": [
    "cur_x = random.randint(-1000,1000) # The algorithm starts at x=3\n",
    "rate = 0.01 # Learning rate\n",
    "precision = math.pow(10,-9) #This tells us when to stop the algorithm\n",
    "previous_step_size = 1 #\n",
    "max_iters = 10000 # maximum number of iterations\n",
    "iters = 0 #iteration counter\n",
    "df = lambda x: 2*(x+5) #Gradient of our function"
   ]
  },
  {
   "cell_type": "code",
   "execution_count": null,
   "metadata": {},
   "outputs": [],
   "source": [
    "while previous_step_size > precision and iters < max_iters:\n",
    "    prev_x = cur_x #Store current x value in prev_x\n",
    "    cur_x = cur_x - rate * df(prev_x) #Grad descent\n",
    "    previous_step_size = abs(cur_x - prev_x) #Change in x\n",
    "    iters = iters+1 #iteration count\n",
    "    print(\"Iteration\",iters,\"\\nX value is\",cur_x) #Print iterations\n",
    "    \n",
    "print(\"The local minimum occurs at \", cur_x)\n",
    "print(\"Probably the true minimum is at \", round(cur_x, abs(int(math.log10(precision)))-3))"
   ]
  },
  {
   "cell_type": "code",
   "execution_count": null,
   "metadata": {},
   "outputs": [],
   "source": [
    "print('We have found a local minimum at \\n{} with a delta of \\n{} running \\n{} iterations'.format(cur_x, previous_step_size, iters))"
   ]
  },
  {
   "cell_type": "markdown",
   "metadata": {},
   "source": [
    "# GD for multi variable, analytical"
   ]
  },
  {
   "cell_type": "code",
   "execution_count": null,
   "metadata": {},
   "outputs": [],
   "source": [
    "def f(x1, x2):\n",
    "    return (x1-18)**2+(x2-2)**2\n",
    "\n",
    "def pdiffx1(position):\n",
    "    return (f(position[0].item()+10**-3, position[1].item()) - f(position[0].item()-10**-3, position[1].item()))/(2*10**-3)\n",
    "\n",
    "def pdiffx2(position):\n",
    "    return (f(position[0].item(), position[1].item()+10**-3) - f(position[0].item(), position[1].item()-10**-3))/(2*10**-3)\n",
    "\n",
    "# def pdiffx1(position):\n",
    "#    return 2*(position[0].item()-5)\n",
    "\n",
    "# def pdiffx2(position):\n",
    "#    return 2*(position[1].item()-5)"
   ]
  },
  {
   "cell_type": "code",
   "execution_count": null,
   "metadata": {},
   "outputs": [],
   "source": [
    "cur_pos = np.matrix([random.randint(-1000, 1000),random.randint(-1000, 1000)]).transpose()\n",
    "rate = 0.1 # Learning rate\n",
    "precision = 10**-5 #This tells us when to stop the algorithm\n",
    "step = np.matrix([1, 1]) #\n",
    "max_iters = 10000 # maximum number of iterations\n",
    "iters = 0 #iteration counter"
   ]
  },
  {
   "cell_type": "code",
   "execution_count": null,
   "metadata": {},
   "outputs": [],
   "source": [
    "while np.linalg.norm(step) > precision and iters < max_iters:\n",
    "    prev_pos = cur_pos\n",
    "    cur_pos = cur_pos - rate * np.matrix([pdiffx1(cur_pos), pdiffx2(cur_pos)]).transpose()\n",
    "    step = abs(prev_pos-cur_pos)\n",
    "    print(\"Iteration\",iters,\"\\nX value is\\n\",cur_pos) #Print iterations\n",
    "    iters += 1"
   ]
  },
  {
   "cell_type": "code",
   "execution_count": null,
   "metadata": {},
   "outputs": [],
   "source": []
  },
  {
   "cell_type": "markdown",
   "metadata": {},
   "source": [
    "# Plot the Function"
   ]
  },
  {
   "cell_type": "code",
   "execution_count": null,
   "metadata": {},
   "outputs": [],
   "source": []
  },
  {
   "cell_type": "code",
   "execution_count": null,
   "metadata": {},
   "outputs": [],
   "source": []
  },
  {
   "cell_type": "code",
   "execution_count": null,
   "metadata": {},
   "outputs": [],
   "source": []
  },
  {
   "cell_type": "code",
   "execution_count": null,
   "metadata": {},
   "outputs": [],
   "source": []
  },
  {
   "cell_type": "code",
   "execution_count": null,
   "metadata": {},
   "outputs": [],
   "source": []
  }
 ],
 "metadata": {
  "kernelspec": {
   "display_name": "Python 3",
   "language": "python",
   "name": "python3"
  },
  "language_info": {
   "codemirror_mode": {
    "name": "ipython",
    "version": 3
   },
   "file_extension": ".py",
   "mimetype": "text/x-python",
   "name": "python",
   "nbconvert_exporter": "python",
   "pygments_lexer": "ipython3",
   "version": "3.7.7"
  }
 },
 "nbformat": 4,
 "nbformat_minor": 2
}
