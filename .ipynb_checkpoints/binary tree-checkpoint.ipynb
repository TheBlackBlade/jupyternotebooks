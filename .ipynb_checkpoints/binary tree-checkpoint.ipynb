{
 "cells": [
  {
   "cell_type": "code",
   "execution_count": 36,
   "metadata": {},
   "outputs": [],
   "source": [
    "class node:\n",
    "    def __init__(self, data=None):\n",
    "        self.data=data\n",
    "        self.right_child=None\n",
    "        self.left_child=None\n",
    "        \n",
    "class binary_tree:\n",
    "    def __init__(self):\n",
    "        self.root=None\n",
    "    \n",
    "    def insert(self, data):\n",
    "        if self.root==None: self.root=node(data)\n",
    "        else: self._insert(data, self.root)\n",
    "        \n",
    "    def _insert(self, data, cur):\n",
    "        if data>cur.data:\n",
    "            if cur.right_child==None:\n",
    "                cur.right_child=node(data)\n",
    "            else:\n",
    "                self._insert(data, cur.right_child)\n",
    "        elif data<cur.data:\n",
    "            if cur.left_child==None:\n",
    "                cur.left_child=node(data)\n",
    "            else:\n",
    "                self._insert(data, cur.left_child)\n",
    "        else:\n",
    "            print('Duplicate value')\n",
    "            \n",
    "    def print_tree_asc(self):\n",
    "        if self.root!=None:\n",
    "            self._print_tree_asc(self.root)\n",
    "\n",
    "    def _print_tree_asc(self, cur):\n",
    "        if cur!=None:\n",
    "            self._print_tree_asc(cur.left_child)\n",
    "            print(cur.data)            \n",
    "            self._print_tree_asc(cur.right_child)\n",
    "            \n",
    "    def print_tree_desc(self):\n",
    "        if self.root!=None:\n",
    "            self._print_tree_desc(self.root)\n",
    "            \n",
    "    def _print_tree_desc(self, cur):\n",
    "        if cur!=None:\n",
    "            self._print_tree_desc(cur.right_child)\n",
    "            print(cur.data)\n",
    "            self._print_tree_desc(cur.left_child)\n",
    "            \n",
    "    def populate_tree(self, number_of_elems=100,max_int=1000):\n",
    "        from random import randint\n",
    "        for _ in range(number_of_elems):\n",
    "            cur_elem = randint(0, max_int)\n",
    "            tree.insert(cur_elem)\n",
    "    \n",
    "    def height(self):\n",
    "        if self.root!=None:\n",
    "            return self._height(self.root, 0)\n",
    "        else: \n",
    "            return 0\n",
    "    \n",
    "    def _height(self, cur_node, cur_height):\n",
    "        if cur_node==None: return cur_height\n",
    "        left_height=self._height(cur_node.left_child, cur_height+1)\n",
    "        right_height=self._height(cur_node.right_child, cur_height+1)\n",
    "        return max(left_height, right_height)\n",
    "    \n",
    "    def search(self, value):\n",
    "        if self.root!=None:\n",
    "            return self._search(self.root, value)\n",
    "        \n",
    "    def _search(self, cur_node, value):\n",
    "            if cur_node.data==value:\n",
    "                return True\n",
    "            elif cur_node.data>value and cur_node.left_child!=None:\n",
    "                return self._search(cur_node.left_child, value)\n",
    "            elif cur_node.data<value and cur_node.right_child!=None:\n",
    "                return self._search(cur_node.right_child, value)\n",
    "            else: return False \n",
    "        \n",
    "# implement a function for visualizing the binary tree\n",
    "    def visualize(self):\n",
    "        import tkinter as tk\n",
    "        tree_height=self.height()\n",
    "        \n",
    "        \n",
    "        "
   ]
  },
  {
   "cell_type": "code",
   "execution_count": 37,
   "metadata": {},
   "outputs": [],
   "source": [
    "tree = binary_tree()\n",
    "tree.populate_tree(5, 10)    "
   ]
  },
  {
   "cell_type": "code",
   "execution_count": 38,
   "metadata": {
    "scrolled": false
   },
   "outputs": [
    {
     "data": {
      "text/plain": [
       "3"
      ]
     },
     "execution_count": 38,
     "metadata": {},
     "output_type": "execute_result"
    }
   ],
   "source": [
    "tree.height()"
   ]
  },
  {
   "cell_type": "code",
   "execution_count": 39,
   "metadata": {},
   "outputs": [
    {
     "name": "stdout",
     "output_type": "stream",
     "text": [
      "10\n",
      "5\n",
      "4\n",
      "2\n",
      "0\n"
     ]
    }
   ],
   "source": [
    "tree.print_tree_desc()"
   ]
  },
  {
   "cell_type": "code",
   "execution_count": 40,
   "metadata": {},
   "outputs": [
    {
     "data": {
      "text/plain": [
       "False"
      ]
     },
     "execution_count": 40,
     "metadata": {},
     "output_type": "execute_result"
    }
   ],
   "source": [
    "tree.search(7)"
   ]
  },
  {
   "cell_type": "code",
   "execution_count": 1,
   "metadata": {},
   "outputs": [],
   "source": []
  }
 ],
 "metadata": {
  "kernelspec": {
   "display_name": "Python 3",
   "language": "python",
   "name": "python3"
  },
  "language_info": {
   "codemirror_mode": {
    "name": "ipython",
    "version": 3
   },
   "file_extension": ".py",
   "mimetype": "text/x-python",
   "name": "python",
   "nbconvert_exporter": "python",
   "pygments_lexer": "ipython3",
   "version": "3.7.7"
  }
 },
 "nbformat": 4,
 "nbformat_minor": 4
}
