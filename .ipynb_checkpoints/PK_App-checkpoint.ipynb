{
 "cells": [
  {
   "cell_type": "code",
   "execution_count": 1,
   "metadata": {},
   "outputs": [],
   "source": [
    "import pandas as pd\n",
    "import pokebase as pb\n",
    "import json\n",
    "import random as rd"
   ]
  },
  {
   "cell_type": "markdown",
   "metadata": {},
   "source": [
    "### Create random Pokemon name list"
   ]
  },
  {
   "cell_type": "code",
   "execution_count": 2,
   "metadata": {},
   "outputs": [],
   "source": [
    "is_id_pk = True\n",
    "pk_list = []\n",
    "while is_id_pk:\n",
    "    try:\n",
    "        x = rd.randint(1, 807)\n",
    "        pk_list.append(pb.pokemon(x).name)\n",
    "        if len(pk_list) >= 6:\n",
    "            is_id_pk = False\n",
    "    except:\n",
    "        print('ID out of range, last ID: ' + str(x-1))\n",
    "        is_id_pk = False"
   ]
  },
  {
   "cell_type": "code",
   "execution_count": 3,
   "metadata": {},
   "outputs": [
    {
     "data": {
      "text/plain": [
       "['greninja', 'starly', 'throh', 'skrelp', 'heatran', 'carracosta']"
      ]
     },
     "execution_count": 3,
     "metadata": {},
     "output_type": "execute_result"
    }
   ],
   "source": [
    "pk_list"
   ]
  },
  {
   "cell_type": "code",
   "execution_count": 4,
   "metadata": {},
   "outputs": [],
   "source": [
    "move_list = []\n",
    "for id in range(len(pb.pokemon(1).moves)):\n",
    "    move_list.append(pb.pokemon(1).moves[id].move.name)"
   ]
  },
  {
   "cell_type": "markdown",
   "metadata": {},
   "source": [
    "### Create type list from name list"
   ]
  },
  {
   "cell_type": "code",
   "execution_count": 5,
   "metadata": {},
   "outputs": [],
   "source": [
    "type_list = []\n",
    "for pk in pk_list:\n",
    "    type_list_temp = []\n",
    "    for slot in range(len(pb.pokemon(pk).types)):\n",
    "        type_list_temp.append(pb.pokemon(pk).types[slot].type.name)\n",
    "    type_list.append(type_list_temp)"
   ]
  },
  {
   "cell_type": "code",
   "execution_count": 6,
   "metadata": {},
   "outputs": [
    {
     "data": {
      "text/plain": [
       "[['dark', 'water'],\n",
       " ['flying', 'normal'],\n",
       " ['fighting'],\n",
       " ['water', 'poison'],\n",
       " ['steel', 'fire'],\n",
       " ['rock', 'water']]"
      ]
     },
     "execution_count": 6,
     "metadata": {},
     "output_type": "execute_result"
    }
   ],
   "source": [
    "type_list"
   ]
  },
  {
   "cell_type": "markdown",
   "metadata": {},
   "source": [
    "### Pokemon Object"
   ]
  },
  {
   "cell_type": "code",
   "execution_count": 7,
   "metadata": {},
   "outputs": [],
   "source": [
    "class PKmon():\n",
    "    def __init__(self, id_or_name, level=1, ev=[0]*6, dv=[0]*6):\n",
    "        self.id = pb.pokemon(id_or_name).id\n",
    "        self.name = pb.pokemon(id_or_name).name\n",
    "        self.level = level\n",
    "        if len(ev)!=6:\n",
    "            print('EV-List must have 6 entrys. Pokemon create without EVs')\n",
    "            self.ev = [0]*6\n",
    "        else:\n",
    "            self.ev = ev\n",
    "        if len(dv)!=6:\n",
    "            print('DV-List must have 6 entrys. Pokemon create without DVs')\n",
    "            self.dv = [0]*6\n",
    "        else:\n",
    "            self.dv = dv\n",
    "        self.base_stats = {}\n",
    "        for stat in range(6):\n",
    "            self.base_stats[pb.pokemon(1).stats[stat].stat.name] = pb.pokemon(id_or_name).stats[stat].base_stat"
   ]
  },
  {
   "cell_type": "code",
   "execution_count": 17,
   "metadata": {},
   "outputs": [
    {
     "name": "stdout",
     "output_type": "stream",
     "text": [
      "greninja\n",
      "{'speed': 122, 'special-defense': 71, 'special-attack': 103, 'defense': 67, 'attack': 95, 'hp': 72}\n",
      "starly\n",
      "{'speed': 60, 'special-defense': 30, 'special-attack': 30, 'defense': 30, 'attack': 55, 'hp': 40}\n",
      "throh\n",
      "{'speed': 45, 'special-defense': 85, 'special-attack': 30, 'defense': 85, 'attack': 100, 'hp': 120}\n",
      "skrelp\n",
      "{'speed': 30, 'special-defense': 60, 'special-attack': 60, 'defense': 60, 'attack': 60, 'hp': 50}\n",
      "heatran\n",
      "{'speed': 77, 'special-defense': 106, 'special-attack': 130, 'defense': 106, 'attack': 90, 'hp': 91}\n",
      "carracosta\n",
      "{'speed': 32, 'special-defense': 65, 'special-attack': 83, 'defense': 133, 'attack': 108, 'hp': 74}\n"
     ]
    }
   ],
   "source": [
    "pokes = {}\n",
    "for poke in pk_list:\n",
    "    pokes[poke] = PKmon(poke)\n",
    "    print(pokes[poke].name)\n",
    "    print(pokes[poke].base_stats)"
   ]
  },
  {
   "cell_type": "code",
   "execution_count": null,
   "metadata": {},
   "outputs": [],
   "source": []
  },
  {
   "cell_type": "code",
   "execution_count": null,
   "metadata": {},
   "outputs": [],
   "source": []
  },
  {
   "cell_type": "code",
   "execution_count": null,
   "metadata": {},
   "outputs": [],
   "source": []
  }
 ],
 "metadata": {
  "kernelspec": {
   "display_name": "Python 3",
   "language": "python",
   "name": "python3"
  },
  "language_info": {
   "codemirror_mode": {
    "name": "ipython",
    "version": 3
   },
   "file_extension": ".py",
   "mimetype": "text/x-python",
   "name": "python",
   "nbconvert_exporter": "python",
   "pygments_lexer": "ipython3",
   "version": "3.7.7"
  }
 },
 "nbformat": 4,
 "nbformat_minor": 4
}
