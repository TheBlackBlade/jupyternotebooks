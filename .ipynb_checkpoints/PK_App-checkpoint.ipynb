{
 "cells": [
  {
   "cell_type": "code",
   "execution_count": 1,
   "metadata": {},
   "outputs": [],
   "source": [
    "import pandas as pd\n",
    "import pokebase as pb\n",
    "import json\n",
    "import random as rd"
   ]
  },
  {
   "cell_type": "markdown",
   "metadata": {},
   "source": [
    "### Create random Pokemon name list"
   ]
  },
  {
   "cell_type": "code",
   "execution_count": 2,
   "metadata": {},
   "outputs": [],
   "source": [
    "is_id_pk = True\n",
    "pk_list = []\n",
    "while is_id_pk:\n",
    "    try:\n",
    "        x = rd.randint(1, 807)\n",
    "        pk_list.append(pb.pokemon(x).name)\n",
    "        if len(pk_list) >= 6:\n",
    "            is_id_pk = False\n",
    "    except:\n",
    "        print('ID out of range, last ID: ' + str(x-1))\n",
    "        is_id_pk = False"
   ]
  },
  {
   "cell_type": "code",
   "execution_count": 3,
   "metadata": {},
   "outputs": [
    {
     "data": {
      "text/plain": [
       "['pheromosa', 'tyrunt', 'jynx', 'ursaring', 'tentacool', 'slowpoke']"
      ]
     },
     "execution_count": 3,
     "metadata": {},
     "output_type": "execute_result"
    }
   ],
   "source": [
    "pk_list"
   ]
  },
  {
   "cell_type": "code",
   "execution_count": 4,
   "metadata": {},
   "outputs": [],
   "source": [
    "move_list = []\n",
    "for id in range(len(pb.pokemon(1).moves)):\n",
    "    move_list.append(pb.pokemon(1).moves[id].move.name)"
   ]
  },
  {
   "cell_type": "markdown",
   "metadata": {},
   "source": [
    "### Create type list from name list"
   ]
  },
  {
   "cell_type": "code",
   "execution_count": 5,
   "metadata": {},
   "outputs": [],
   "source": [
    "type_list = []\n",
    "for pk in pk_list:\n",
    "    type_list_temp = []\n",
    "    for slot in range(len(pb.pokemon(pk).types)):\n",
    "        type_list_temp.append(pb.pokemon(pk).types[slot].type.name)\n",
    "    type_list.append(type_list_temp)"
   ]
  },
  {
   "cell_type": "code",
   "execution_count": 6,
   "metadata": {},
   "outputs": [
    {
     "data": {
      "text/plain": [
       "[['fighting', 'bug'],\n",
       " ['dragon', 'rock'],\n",
       " ['psychic', 'ice'],\n",
       " ['normal'],\n",
       " ['poison', 'water'],\n",
       " ['psychic', 'water']]"
      ]
     },
     "execution_count": 6,
     "metadata": {},
     "output_type": "execute_result"
    }
   ],
   "source": [
    "type_list"
   ]
  },
  {
   "cell_type": "markdown",
   "metadata": {},
   "source": [
    "### Pokemon Object"
   ]
  },
  {
   "cell_type": "code",
   "execution_count": 7,
   "metadata": {},
   "outputs": [],
   "source": [
    "class PKmon():\n",
    "    \"\"\"This class uses the pokeAPI through the pokebase.module to create a new object.\n",
    "    This object is a pseudo-instance of the pokebase.pokemon, only drawing the information which it needs and not all\n",
    "    of the metadata. In future this might be solved directly through inheritance\n",
    "    \n",
    "    Additionally, this class contains more information on the actual pokemon than the pokebase-object, name EV- and DV-values and more\n",
    "    stats for the future:\n",
    "        - calculated pokemons stats, based on level, species, DVs and EVs\n",
    "        - Pokemon moves\n",
    "        - Held Item\"\"\"\n",
    "    def __init__(self, id_or_name, nick=None, level=1, ev=None, dv=None):\n",
    "        self.id = pb.pokemon(id_or_name).id\n",
    "        self.name = pb.pokemon(id_or_name).name.capitalize()        \n",
    "        self.level = level\n",
    "        \n",
    "        if nick == None: self.nick = self.name\n",
    "        else: self.nick = nick\n",
    "            \n",
    "        self.base_stats = {}\n",
    "        for stat in range(6):\n",
    "            self.base_stats[pb.pokemon(1).stats[stat].stat.name] = pb.pokemon(id_or_name).stats[stat].base_stat\n",
    "            \n",
    "        self.train(ev)\n",
    "        self.breed(dv)\n",
    "        \n",
    "### ----------- THE FOLLOWING TWO METHODS ARE NOT DRY, REVISE IF POSSIBLE -----------------\n",
    "        \n",
    "    def train(self, evs):\n",
    "        \"\"\"Update a pokemons EV. evs is a dict with stats as keys\"\"\"\n",
    "        self.ev = {'speed':0, 'special-defense':0,'special-attack':0, 'defense':0, 'attack':0, 'hp':0}\n",
    "        # This checks if a dict was given, if not the default values are used.\n",
    "        # If a dict is given as evs, the boundaries for the values will be asserted.\n",
    "        # The self.ev dict will be updated and all entries not matching any of the 6 stat-keys are deleted.\n",
    "        if evs == None: \n",
    "            return print(\"No EVs given, {} has 0 EVs everywhere\".format(self.name))\n",
    "        else:\n",
    "            assert sum(evs.values()) <= 510, 'Maximum of 510'\n",
    "            assert max(evs.values()) <= 252, 'Maximum of 252 for a single stat'\n",
    "            assert min(evs.values()) >= 0, 'Minimum of 0 for a single stat'\n",
    "            self.ev.update(evs)\n",
    "            for k in list(self.ev.keys()):\n",
    "                if k in ['speed', 'special-defense','special-attack', 'defense', 'attack', 'hp']: pass\n",
    "                else: del stats[k]\n",
    "            return print(self.name + ' was trained successfully')\n",
    "    \n",
    "    def breed(self, dvs):\n",
    "        \"\"\"Update a pokemons DV. dvs is a dict with stats as keys\"\"\"\n",
    "        # This checks if a dict was given, if not the default values are used.\n",
    "        # If a dict is given as evs, the boundaries for the values will be asserted.\n",
    "        # The self.ev dict will be updated and all entries not matching any of the 6 stat-keys are deleted.\n",
    "        self.dv = {'speed':0, 'special-defense':0,'special-attack':0, 'defense':0, 'attack':0, 'hp':0}\n",
    "        if dvs == None: \n",
    "            return print(\"No DVs given, {} has 0 DVs everywhere\".format(self.name))\n",
    "        else:\n",
    "            assert max(dvs.values()) <= 31, 'Maximum of 31 for a single stat'\n",
    "            assert min(dvs.values()) >= 0, 'Minimum of 0 for a single stat'\n",
    "            self.dv.update(dvs)\n",
    "            for k in list(self.dv.keys()):\n",
    "                if k in ['speed', 'special-defense','special-attack', 'defense', 'attack', 'hp']: pass\n",
    "                else: del stats[k]\n",
    "            return print(self.name + ' was bred successfully')\n",
    "            \n",
    "    @property\n",
    "    def stats(self):\n",
    "        \n",
    "        return stats_dict"
   ]
  },
  {
   "cell_type": "code",
   "execution_count": 8,
   "metadata": {},
   "outputs": [
    {
     "name": "stdout",
     "output_type": "stream",
     "text": [
      "No EVs given, Pheromosa has 0 EVs everywhere\n",
      "No DVs given, Pheromosa has 0 DVs everywhere\n",
      "Pheromosa\n",
      "{'speed': 0, 'special-defense': 0, 'special-attack': 0, 'defense': 0, 'attack': 0, 'hp': 0}\n",
      "{'speed': 0, 'special-defense': 0, 'special-attack': 0, 'defense': 0, 'attack': 0, 'hp': 0}\n",
      "{'speed': 151, 'special-defense': 37, 'special-attack': 137, 'defense': 37, 'attack': 137, 'hp': 71}\n",
      "No EVs given, Tyrunt has 0 EVs everywhere\n",
      "No DVs given, Tyrunt has 0 DVs everywhere\n",
      "Tyrunt\n",
      "{'speed': 0, 'special-defense': 0, 'special-attack': 0, 'defense': 0, 'attack': 0, 'hp': 0}\n",
      "{'speed': 0, 'special-defense': 0, 'special-attack': 0, 'defense': 0, 'attack': 0, 'hp': 0}\n",
      "{'speed': 48, 'special-defense': 45, 'special-attack': 45, 'defense': 77, 'attack': 89, 'hp': 58}\n",
      "No EVs given, Jynx has 0 EVs everywhere\n",
      "No DVs given, Jynx has 0 DVs everywhere\n",
      "Jynx\n",
      "{'speed': 0, 'special-defense': 0, 'special-attack': 0, 'defense': 0, 'attack': 0, 'hp': 0}\n",
      "{'speed': 0, 'special-defense': 0, 'special-attack': 0, 'defense': 0, 'attack': 0, 'hp': 0}\n",
      "{'speed': 95, 'special-defense': 95, 'special-attack': 115, 'defense': 35, 'attack': 50, 'hp': 65}\n",
      "No EVs given, Ursaring has 0 EVs everywhere\n",
      "No DVs given, Ursaring has 0 DVs everywhere\n",
      "Ursaring\n",
      "{'speed': 0, 'special-defense': 0, 'special-attack': 0, 'defense': 0, 'attack': 0, 'hp': 0}\n",
      "{'speed': 0, 'special-defense': 0, 'special-attack': 0, 'defense': 0, 'attack': 0, 'hp': 0}\n",
      "{'speed': 55, 'special-defense': 75, 'special-attack': 75, 'defense': 75, 'attack': 130, 'hp': 90}\n",
      "No EVs given, Tentacool has 0 EVs everywhere\n",
      "No DVs given, Tentacool has 0 DVs everywhere\n",
      "Tentacool\n",
      "{'speed': 0, 'special-defense': 0, 'special-attack': 0, 'defense': 0, 'attack': 0, 'hp': 0}\n",
      "{'speed': 0, 'special-defense': 0, 'special-attack': 0, 'defense': 0, 'attack': 0, 'hp': 0}\n",
      "{'speed': 70, 'special-defense': 100, 'special-attack': 50, 'defense': 35, 'attack': 40, 'hp': 40}\n",
      "No EVs given, Slowpoke has 0 EVs everywhere\n",
      "No DVs given, Slowpoke has 0 DVs everywhere\n",
      "Slowpoke\n",
      "{'speed': 0, 'special-defense': 0, 'special-attack': 0, 'defense': 0, 'attack': 0, 'hp': 0}\n",
      "{'speed': 0, 'special-defense': 0, 'special-attack': 0, 'defense': 0, 'attack': 0, 'hp': 0}\n",
      "{'speed': 15, 'special-defense': 40, 'special-attack': 40, 'defense': 65, 'attack': 65, 'hp': 90}\n"
     ]
    }
   ],
   "source": [
    "pokes = {}\n",
    "for poke in pk_list:\n",
    "    pokes[poke] = PKmon(poke)\n",
    "    print(pokes[poke].nick)\n",
    "    print(pokes[poke].ev)\n",
    "    print(pokes[poke].dv)\n",
    "    print(pokes[poke].base_stats)"
   ]
  },
  {
   "cell_type": "code",
   "execution_count": 9,
   "metadata": {},
   "outputs": [
    {
     "name": "stdout",
     "output_type": "stream",
     "text": [
      "No EVs given, Magmortar has 0 EVs everywhere\n",
      "No DVs given, Magmortar has 0 DVs everywhere\n",
      "Magmortar was bred successfully\n",
      "Magmortar was trained successfully\n",
      "{'speed': 252, 'special-defense': 0, 'special-attack': 0, 'defense': 0, 'attack': 252, 'hp': 0}\n",
      "{'speed': 31, 'special-defense': 0, 'special-attack': 0, 'defense': 0, 'attack': 31, 'hp': 0}\n"
     ]
    }
   ],
   "source": [
    "mag = PKmon('magmortar')\n",
    "mag.breed({'speed':31, 'attack':31})\n",
    "mag.train({'speed':252, 'attack':252})\n",
    "print(mag.ev)\n",
    "print(mag.dv)"
   ]
  },
  {
   "cell_type": "code",
   "execution_count": 10,
   "metadata": {},
   "outputs": [],
   "source": [
    "stats = {'speed':0, 'special-defense':0,'special-attack':0, 'defense':0, 'attack':0, 'hp':0}\n",
    "evs = {'speed':252, 'attack': 252, 'cool':-1}\n",
    "stats.update(evs)\n",
    "for k in list(stats.keys()):\n",
    "    if k in ['speed', 'special-defense','special-attack', 'defense', 'attack', 'hp']: pass\n",
    "    else: del stats[k]"
   ]
  },
  {
   "cell_type": "code",
   "execution_count": 11,
   "metadata": {},
   "outputs": [
    {
     "data": {
      "text/plain": [
       "dict_keys(['speed', 'special-defense', 'special-attack', 'defense', 'attack', 'hp'])"
      ]
     },
     "execution_count": 11,
     "metadata": {},
     "output_type": "execute_result"
    }
   ],
   "source": [
    "stats.keys()"
   ]
  },
  {
   "cell_type": "code",
   "execution_count": 16,
   "metadata": {},
   "outputs": [
    {
     "ename": "AttributeError",
     "evalue": "'list' object has no attribute 'values'",
     "output_type": "error",
     "traceback": [
      "\u001b[1;31m---------------------------------------------------------------------------\u001b[0m",
      "\u001b[1;31mAttributeError\u001b[0m                            Traceback (most recent call last)",
      "\u001b[1;32m<ipython-input-16-108cc5744573>\u001b[0m in \u001b[0;36m<module>\u001b[1;34m\u001b[0m\n\u001b[1;32m----> 1\u001b[1;33m \u001b[0mpb\u001b[0m\u001b[1;33m.\u001b[0m\u001b[0mpokemon\u001b[0m\u001b[1;33m(\u001b[0m\u001b[1;36m1\u001b[0m\u001b[1;33m)\u001b[0m\u001b[1;33m.\u001b[0m\u001b[0mmoves\u001b[0m\u001b[1;33m.\u001b[0m\u001b[0mvalues\u001b[0m\u001b[1;33m\u001b[0m\u001b[1;33m\u001b[0m\u001b[0m\n\u001b[0m",
      "\u001b[1;31mAttributeError\u001b[0m: 'list' object has no attribute 'values'"
     ]
    }
   ],
   "source": []
  },
  {
   "cell_type": "code",
   "execution_count": null,
   "metadata": {},
   "outputs": [],
   "source": []
  }
 ],
 "metadata": {
  "kernelspec": {
   "display_name": "Python 3",
   "language": "python",
   "name": "python3"
  },
  "language_info": {
   "codemirror_mode": {
    "name": "ipython",
    "version": 3
   },
   "file_extension": ".py",
   "mimetype": "text/x-python",
   "name": "python",
   "nbconvert_exporter": "python",
   "pygments_lexer": "ipython3",
   "version": "3.7.7"
  }
 },
 "nbformat": 4,
 "nbformat_minor": 4
}
