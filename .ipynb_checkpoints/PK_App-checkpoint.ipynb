{
 "cells": [
  {
   "cell_type": "code",
   "execution_count": 49,
   "metadata": {},
   "outputs": [],
   "source": [
    "import pandas as pd\n",
    "import pokebase as pb\n",
    "import json\n",
    "import random as rd"
   ]
  },
  {
   "cell_type": "markdown",
   "metadata": {},
   "source": [
    "### Create random Pokemon name list"
   ]
  },
  {
   "cell_type": "code",
   "execution_count": 50,
   "metadata": {},
   "outputs": [],
   "source": [
    "is_id_pk = True\n",
    "pk_list = []\n",
    "while is_id_pk:\n",
    "    try:\n",
    "        x = rd.randint(1, 807)\n",
    "        pk_list.append(pb.pokemon(x).name)\n",
    "        if len(pk_list) >= 6:\n",
    "            is_id_pk = False\n",
    "    except:\n",
    "        print('ID out of range, last ID: ' + str(x-1))\n",
    "        is_id_pk = False"
   ]
  },
  {
   "cell_type": "code",
   "execution_count": 51,
   "metadata": {},
   "outputs": [
    {
     "data": {
      "text/plain": [
       "['magmortar', 'swirlix', 'palossand', 'ralts', 'crawdaunt', 'pyukumuku']"
      ]
     },
     "execution_count": 51,
     "metadata": {},
     "output_type": "execute_result"
    }
   ],
   "source": [
    "pk_list"
   ]
  },
  {
   "cell_type": "code",
   "execution_count": 52,
   "metadata": {},
   "outputs": [],
   "source": [
    "move_list = []\n",
    "for id in range(len(pb.pokemon(1).moves)):\n",
    "    move_list.append(pb.pokemon(1).moves[id].move.name)"
   ]
  },
  {
   "cell_type": "markdown",
   "metadata": {},
   "source": [
    "### Create type list from name list"
   ]
  },
  {
   "cell_type": "code",
   "execution_count": 53,
   "metadata": {},
   "outputs": [],
   "source": [
    "type_list = []\n",
    "for pk in pk_list:\n",
    "    type_list_temp = []\n",
    "    for slot in range(len(pb.pokemon(pk).types)):\n",
    "        type_list_temp.append(pb.pokemon(pk).types[slot].type.name)\n",
    "    type_list.append(type_list_temp)"
   ]
  },
  {
   "cell_type": "code",
   "execution_count": 54,
   "metadata": {},
   "outputs": [
    {
     "data": {
      "text/plain": [
       "[['fire'],\n",
       " ['fairy'],\n",
       " ['ground', 'ghost'],\n",
       " ['fairy', 'psychic'],\n",
       " ['dark', 'water'],\n",
       " ['water']]"
      ]
     },
     "execution_count": 54,
     "metadata": {},
     "output_type": "execute_result"
    }
   ],
   "source": [
    "type_list"
   ]
  },
  {
   "cell_type": "markdown",
   "metadata": {},
   "source": [
    "### Pokemon Object"
   ]
  },
  {
   "cell_type": "code",
   "execution_count": 97,
   "metadata": {},
   "outputs": [],
   "source": [
    "class PKmon():\n",
    "    \"\"\"This class uses the pokeAPI through the pokebase.module to create a new object.\n",
    "    This object is a pseudo-instance of the pokebase.pokemon, only drawing the information which it needs and not all\n",
    "    of the metadata. In future this might be solved directly through inheritance\n",
    "    \n",
    "    Additionally, this class contains more information on the actual pokemon than the pokebase-object, name EV- and DV-values and more\n",
    "    stats for the future:\n",
    "        - calculated pokemons stats, based on level, species, DVs and EVs\n",
    "        - Pokemon moves\n",
    "        - Held Item\"\"\"\n",
    "    def __init__(self, id_or_name, nick=None, level=1, ev=None, dv=None):\n",
    "        self.id = pb.pokemon(id_or_name).id\n",
    "        self.name = pb.pokemon(id_or_name).name.capitalize()        \n",
    "        self.level = level\n",
    "        \n",
    "        if nick == None: self.nick = self.name\n",
    "        else: self.nick = nick\n",
    "            \n",
    "        self.base_stats = {}\n",
    "        for stat in range(6):\n",
    "            self.base_stats[pb.pokemon(1).stats[stat].stat.name] = pb.pokemon(id_or_name).stats[stat].base_stat\n",
    "            \n",
    "        self.train(ev)\n",
    "        self.breed(dv)\n",
    "        \n",
    "### ----------- THE FOLLOWING TWO METHODS ARE NOT DRY, REVISE IF POSSIBLE -----------------\n",
    "        \n",
    "    def train(self, evs):\n",
    "        \"\"\"Update a pokemons EV. evs is a dict with stats as keys\"\"\"\n",
    "        self.ev = {'speed':0, 'special-defense':0,'special-attack':0, 'defense':0, 'attack':0, 'hp':0}\n",
    "        # This checks if a dict was given, if not the default values are used.\n",
    "        # If a dict is given as evs, the boundaries for the values will be asserted.\n",
    "        # The self.ev dict will be updated and all entries not matching any of the 6 stat-keys are deleted.\n",
    "        if evs == None: \n",
    "            return print(\"No EVs given, {} has 0 EVs everywhere\".format(self.name))\n",
    "        else:\n",
    "            assert sum(evs.values()) <= 510, 'Maximum of 510'\n",
    "            assert max(evs.values()) <= 252, 'Maximum of 252 for a single stat'\n",
    "            assert min(evs.values()) >= 0, 'Minimum of 0 for a single stat'\n",
    "            self.ev.update(evs)\n",
    "            for k in list(self.ev.keys()):\n",
    "                if k in ['speed', 'special-defense','special-attack', 'defense', 'attack', 'hp']: pass\n",
    "                else: del stats[k]\n",
    "            return print(self.name + ' was trained successfully')\n",
    "    \n",
    "    def breed(self, dvs):\n",
    "        \"\"\"Update a pokemons DV. dvs is a dict with stats as keys\"\"\"\n",
    "        # This checks if a dict was given, if not the default values are used.\n",
    "        # If a dict is given as evs, the boundaries for the values will be asserted.\n",
    "        # The self.ev dict will be updated and all entries not matching any of the 6 stat-keys are deleted.\n",
    "        self.dv = {'speed':0, 'special-defense':0,'special-attack':0, 'defense':0, 'attack':0, 'hp':0}\n",
    "        if dvs == None: \n",
    "            return print(\"No DVs given, {} has 0 DVs everywhere\".format(self.name))\n",
    "        else:\n",
    "            assert max(dvs.values()) <= 31, 'Maximum of 31 for a single stat'\n",
    "            assert min(dvs.values()) >= 0, 'Minimum of 0 for a single stat'\n",
    "            self.dv.update(dvs)\n",
    "            for k in list(self.dv.keys()):\n",
    "                if k in ['speed', 'special-defense','special-attack', 'defense', 'attack', 'hp']: pass\n",
    "                else: del stats[k]\n",
    "            return print(self.name + ' was bred successfully')\n",
    "            \n",
    "    @property\n",
    "    def stats(self):\n",
    "        \n",
    "        return stats_dict"
   ]
  },
  {
   "cell_type": "code",
   "execution_count": 89,
   "metadata": {},
   "outputs": [
    {
     "name": "stdout",
     "output_type": "stream",
     "text": [
      "No EVs given, Magmortar has 0 EVs everywhere\n",
      "No DVs given, Magmortar has 0 DVs everywhere\n",
      "Magmortar\n",
      "{'speed': 0, 'special-defense': 0, 'special-attack': 0, 'defense': 0, 'attack': 0, 'hp': 0}\n",
      "{'speed': 0, 'special-defense': 0, 'special-attack': 0, 'defense': 0, 'attack': 0, 'hp': 0}\n",
      "{'speed': 83, 'special-defense': 95, 'special-attack': 125, 'defense': 67, 'attack': 95, 'hp': 75}\n",
      "No EVs given, Swirlix has 0 EVs everywhere\n",
      "No DVs given, Swirlix has 0 DVs everywhere\n",
      "Swirlix\n",
      "{'speed': 0, 'special-defense': 0, 'special-attack': 0, 'defense': 0, 'attack': 0, 'hp': 0}\n",
      "{'speed': 0, 'special-defense': 0, 'special-attack': 0, 'defense': 0, 'attack': 0, 'hp': 0}\n",
      "{'speed': 49, 'special-defense': 57, 'special-attack': 59, 'defense': 66, 'attack': 48, 'hp': 62}\n",
      "No EVs given, Palossand has 0 EVs everywhere\n",
      "No DVs given, Palossand has 0 DVs everywhere\n",
      "Palossand\n",
      "{'speed': 0, 'special-defense': 0, 'special-attack': 0, 'defense': 0, 'attack': 0, 'hp': 0}\n",
      "{'speed': 0, 'special-defense': 0, 'special-attack': 0, 'defense': 0, 'attack': 0, 'hp': 0}\n",
      "{'speed': 35, 'special-defense': 75, 'special-attack': 100, 'defense': 110, 'attack': 75, 'hp': 85}\n",
      "No EVs given, Ralts has 0 EVs everywhere\n",
      "No DVs given, Ralts has 0 DVs everywhere\n",
      "Ralts\n",
      "{'speed': 0, 'special-defense': 0, 'special-attack': 0, 'defense': 0, 'attack': 0, 'hp': 0}\n",
      "{'speed': 0, 'special-defense': 0, 'special-attack': 0, 'defense': 0, 'attack': 0, 'hp': 0}\n",
      "{'speed': 40, 'special-defense': 35, 'special-attack': 45, 'defense': 25, 'attack': 25, 'hp': 28}\n",
      "No EVs given, Crawdaunt has 0 EVs everywhere\n",
      "No DVs given, Crawdaunt has 0 DVs everywhere\n",
      "Crawdaunt\n",
      "{'speed': 0, 'special-defense': 0, 'special-attack': 0, 'defense': 0, 'attack': 0, 'hp': 0}\n",
      "{'speed': 0, 'special-defense': 0, 'special-attack': 0, 'defense': 0, 'attack': 0, 'hp': 0}\n",
      "{'speed': 55, 'special-defense': 55, 'special-attack': 90, 'defense': 85, 'attack': 120, 'hp': 63}\n",
      "No EVs given, Pyukumuku has 0 EVs everywhere\n",
      "No DVs given, Pyukumuku has 0 DVs everywhere\n",
      "Pyukumuku\n",
      "{'speed': 0, 'special-defense': 0, 'special-attack': 0, 'defense': 0, 'attack': 0, 'hp': 0}\n",
      "{'speed': 0, 'special-defense': 0, 'special-attack': 0, 'defense': 0, 'attack': 0, 'hp': 0}\n",
      "{'speed': 5, 'special-defense': 130, 'special-attack': 30, 'defense': 130, 'attack': 60, 'hp': 55}\n"
     ]
    }
   ],
   "source": [
    "pokes = {}\n",
    "for poke in pk_list:\n",
    "    pokes[poke] = PKmon(poke)\n",
    "    print(pokes[poke].nick)\n",
    "    print(pokes[poke].ev)\n",
    "    print(pokes[poke].dv)\n",
    "    print(pokes[poke].base_stats)"
   ]
  },
  {
   "cell_type": "code",
   "execution_count": 95,
   "metadata": {},
   "outputs": [
    {
     "name": "stdout",
     "output_type": "stream",
     "text": [
      "No EVs given, Magmortar has 0 EVs everywhere\n",
      "No DVs given, Magmortar has 0 DVs everywhere\n",
      "Magmortar was bred successfully\n",
      "Magmortar was trained successfully\n",
      "{'speed': 252, 'special-defense': 0, 'special-attack': 0, 'defense': 0, 'attack': 252, 'hp': 0}\n",
      "{'speed': 31, 'special-defense': 0, 'special-attack': 0, 'defense': 0, 'attack': 31, 'hp': 0}\n"
     ]
    }
   ],
   "source": [
    "mag = PKmon('magmortar')\n",
    "mag.breed({'speed':31, 'attack':31})\n",
    "mag.train({'speed':252, 'attack':252})\n",
    "print(mag.ev)\n",
    "print(mag.dv)"
   ]
  },
  {
   "cell_type": "code",
   "execution_count": 91,
   "metadata": {},
   "outputs": [],
   "source": [
    "stats = {'speed':0, 'special-defense':0,'special-attack':0, 'defense':0, 'attack':0, 'hp':0}\n",
    "evs = {'speed':252, 'attack': 252, 'cool':-1}\n",
    "stats.update(evs)\n",
    "for k in list(stats.keys()):\n",
    "    if k in ['speed', 'special-defense','special-attack', 'defense', 'attack', 'hp']: pass\n",
    "    else: del stats[k]"
   ]
  },
  {
   "cell_type": "code",
   "execution_count": 38,
   "metadata": {},
   "outputs": [
    {
     "data": {
      "text/plain": [
       "dict_keys(['special-defense', 'special-attack', 'defense', 'attack', 'hp', 'cool'])"
      ]
     },
     "execution_count": 38,
     "metadata": {},
     "output_type": "execute_result"
    }
   ],
   "source": [
    "stats.keys()"
   ]
  },
  {
   "cell_type": "code",
   "execution_count": null,
   "metadata": {},
   "outputs": [],
   "source": []
  }
 ],
 "metadata": {
  "kernelspec": {
   "display_name": "Python 3",
   "language": "python",
   "name": "python3"
  },
  "language_info": {
   "codemirror_mode": {
    "name": "ipython",
    "version": 3
   },
   "file_extension": ".py",
   "mimetype": "text/x-python",
   "name": "python",
   "nbconvert_exporter": "python",
   "pygments_lexer": "ipython3",
   "version": "3.7.7"
  }
 },
 "nbformat": 4,
 "nbformat_minor": 4
}
