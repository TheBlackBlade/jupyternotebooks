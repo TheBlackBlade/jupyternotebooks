{
 "cells": [
  {
   "cell_type": "code",
   "execution_count": 7,
   "metadata": {},
   "outputs": [],
   "source": [
    "import pandas as pd\n",
    "import pokebase as pb"
   ]
  },
  {
   "cell_type": "code",
   "execution_count": 9,
   "metadata": {},
   "outputs": [
    {
     "data": {
      "text/plain": [
       "['APIMetadata',\n",
       " 'APIResourceList',\n",
       " 'NamedAPIResource',\n",
       " 'SpriteResource',\n",
       " '__all__',\n",
       " '__builtins__',\n",
       " '__cached__',\n",
       " '__doc__',\n",
       " '__file__',\n",
       " '__loader__',\n",
       " '__name__',\n",
       " '__package__',\n",
       " '__path__',\n",
       " '__spec__',\n",
       " 'ability',\n",
       " 'api',\n",
       " 'berry',\n",
       " 'berry_firmness',\n",
       " 'berry_flavor',\n",
       " 'characteristic',\n",
       " 'contest_effect',\n",
       " 'contest_type',\n",
       " 'egg_group',\n",
       " 'encounter_condition',\n",
       " 'encounter_condition_value',\n",
       " 'encounter_method',\n",
       " 'evolution_chain',\n",
       " 'evolution_trigger',\n",
       " 'gender',\n",
       " 'generation',\n",
       " 'growth_rate',\n",
       " 'item',\n",
       " 'item_attribute',\n",
       " 'item_category',\n",
       " 'item_fling_effect',\n",
       " 'item_pocket',\n",
       " 'language',\n",
       " 'loaders',\n",
       " 'location',\n",
       " 'location_area',\n",
       " 'machine',\n",
       " 'move',\n",
       " 'move_ailment',\n",
       " 'move_battle_style',\n",
       " 'move_category',\n",
       " 'move_damage_class',\n",
       " 'move_learn_method',\n",
       " 'move_target',\n",
       " 'nature',\n",
       " 'pal_park_area',\n",
       " 'pokeathlon_stat',\n",
       " 'pokedex',\n",
       " 'pokemon',\n",
       " 'pokemon_color',\n",
       " 'pokemon_form',\n",
       " 'pokemon_habitat',\n",
       " 'pokemon_shape',\n",
       " 'pokemon_species',\n",
       " 'pokemon_sprite',\n",
       " 'region',\n",
       " 'stat',\n",
       " 'super_contest_effect',\n",
       " 'type_',\n",
       " 'version',\n",
       " 'version_group']"
      ]
     },
     "execution_count": 9,
     "metadata": {},
     "output_type": "execute_result"
    }
   ],
   "source": [
    "dir(pb)"
   ]
  },
  {
   "cell_type": "code",
   "execution_count": null,
   "metadata": {},
   "outputs": [],
   "source": []
  },
  {
   "cell_type": "code",
   "execution_count": null,
   "metadata": {},
   "outputs": [],
   "source": []
  }
 ],
 "metadata": {
  "kernelspec": {
   "display_name": "Python 3",
   "language": "python",
   "name": "python3"
  },
  "language_info": {
   "codemirror_mode": {
    "name": "ipython",
    "version": 3
   },
   "file_extension": ".py",
   "mimetype": "text/x-python",
   "name": "python",
   "nbconvert_exporter": "python",
   "pygments_lexer": "ipython3",
   "version": "3.7.7"
  }
 },
 "nbformat": 4,
 "nbformat_minor": 4
}
