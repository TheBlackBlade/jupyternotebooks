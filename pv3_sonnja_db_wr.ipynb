{
 "cells": [
  {
   "cell_type": "markdown",
   "metadata": {},
   "source": [
    "# PV3 Database access and data visualisations - WR\n",
    "\n",
    "<img src=\"http://reiner-lemoine-institut.de//wp-content/uploads/2015/09/rlilogo.png\" width=\"100\" style=\"float: right\">\n",
    "\n",
    "__copyright__ \t= \"© Reiner Lemoine Institut\" <br>\n",
    "__license__ \t= \"GNU Affero General Public License Version 3 (AGPL-3.0)\" <br>\n",
    "__url__ \t\t= \"https://www.gnu.org/licenses/agpl-3.0.en.html\" <br>\n",
    "__author__ \t\t= \"Ludwig Hülk\" <br>\n",
    "__editor__      = \"Kilian Helfenbein\" <br>"
   ]
  },
  {
   "cell_type": "markdown",
   "metadata": {},
   "source": [
    "# Imports"
   ]
  },
  {
   "cell_type": "code",
   "execution_count": 1,
   "metadata": {},
   "outputs": [
    {
     "data": {
      "text/html": [
       "        <script type=\"text/javascript\">\n",
       "        window.PlotlyConfig = {MathJaxConfig: 'local'};\n",
       "        if (window.MathJax) {MathJax.Hub.Config({SVG: {font: \"STIX-Web\"}});}\n",
       "        if (typeof require !== 'undefined') {\n",
       "        require.undef(\"plotly\");\n",
       "        requirejs.config({\n",
       "            paths: {\n",
       "                'plotly': ['https://cdn.plot.ly/plotly-latest.min']\n",
       "            }\n",
       "        });\n",
       "        require(['plotly'], function(Plotly) {\n",
       "            window._Plotly = Plotly;\n",
       "        });\n",
       "        }\n",
       "        </script>\n",
       "        "
      ]
     },
     "metadata": {},
     "output_type": "display_data"
    }
   ],
   "source": [
    "import sys\n",
    "import os\n",
    "import getpass\n",
    "import pandas as pd\n",
    "import numpy as np\n",
    "import json\n",
    "from sqlalchemy import *\n",
    "# plot\n",
    "import matplotlib.pyplot as plt\n",
    "import subprocess, os\n",
    "import matplotlib.ticker as mticker\n",
    "from matplotlib import cm\n",
    "from matplotlib.colors import Normalize\n",
    "from matplotlib import rcParams\n",
    "from scipy.interpolate import interpn\n",
    "import plotly.graph_objs as go\n",
    "import plotly.offline as pltly\n",
    "import colorlover as cl\n",
    "import seaborn as sns\n",
    "# notebook\n",
    "from IPython.display import Image\n",
    "from IPython.core.display import HTML \n",
    "from scipy.stats import gaussian_kde\n",
    "\n",
    "pltly.init_notebook_mode(connected=True)\n",
    "%matplotlib inline\n",
    "\n",
    "rcParams['font.family'] = 'Verdana'\n",
    "\n",
    "version = 'v1 (jupyter)'\n",
    "project = 'pv3'"
   ]
  },
  {
   "cell_type": "markdown",
   "metadata": {},
   "source": [
    "# Database Connection"
   ]
  },
  {
   "cell_type": "code",
   "execution_count": 2,
   "metadata": {
    "scrolled": true
   },
   "outputs": [
    {
     "name": "stderr",
     "output_type": "stream",
     "text": [
      "D:\\Anaconda\\envs\\p_py37\\lib\\site-packages\\ipykernel_launcher.py:12: UserWarning:\n",
      "\n",
      "The `stream` parameter of `getpass.getpass` will have no effect when using ipykernel\n",
      "\n"
     ]
    },
    {
     "name": "stdout",
     "output_type": "stream",
     "text": [
      "Please provide connection parameters to database:\n",
      "Hit [Enter] to take defaults\n",
      "password: ········\n",
      "Password correct! Database connection established.\n"
     ]
    }
   ],
   "source": [
    "def postgres_session():\n",
    "    \"\"\"SQLAlchemy session object with valid connection to reeem database\"\"\"\n",
    "    \n",
    "    print('Please provide connection parameters to database:\\n' +\n",
    "              'Hit [Enter] to take defaults')\n",
    "    host = 'localhost' # input('host (default 130.226.55.43): ')\n",
    "    port = '5432' # input('port (default 5432): ')\n",
    "    database = 'sonnja_db' # input(\"database name (default 'reeem'): \")\n",
    "    user = 'sonnja' # input('user (default postgres): ')\n",
    "    # password = input('password: ')\n",
    "    password = getpass.getpass(prompt='password: ',\n",
    "                                   stream=sys.stderr)\n",
    "    con = create_engine(\n",
    "            'postgresql://' + '%s:%s@%s:%s/%s' % (user,\n",
    "                                                  password,\n",
    "                                                  host,\n",
    "                                                  port,\n",
    "                                                  database)).connect()\n",
    "    print('Password correct! Database connection established.')\n",
    "    return con\n",
    "\n",
    "# start session\n",
    "con = postgres_session()"
   ]
  },
  {
   "cell_type": "markdown",
   "metadata": {},
   "source": [
    "# Data Analysis"
   ]
  },
  {
   "cell_type": "markdown",
   "metadata": {},
   "source": [
    "## Select table metadata\n",
    "\n",
    "This section can be used to get the metadata from one database table.<br>\n",
    "The result is printed.<br>"
   ]
  },
  {
   "cell_type": "code",
   "execution_count": 3,
   "metadata": {},
   "outputs": [
    {
     "name": "stdout",
     "output_type": "stream",
     "text": [
      "{\n",
      "    \"name\": \"einleuchtend_wrdata_2015_wr1\",\n",
      "    \"title\": \"SonnJa! einleuchtend e.V. WR 1 data 2015\",\n",
      "    \"id\": null,\n",
      "    \"description\": \"Data of the measurement series of inverter 1 of the experimental PV system of einleuchtend e.V. at the HTW Berlin\",\n",
      "    \"language\": [\n",
      "        \"en-GB\",\n",
      "\t\t\"de-DE\"\n",
      "    ],\n",
      "    \"keywords\": [\n",
      "        \"wr1\",\n",
      "\t\t\"inverter\",\n",
      "\t\t\"einleuchtend\"\n",
      "    ],\n",
      "    \"publicationDate\": null,\n",
      "    \"context\": {\n",
      "        \"homepage\": \"https://re-master.htw-berlin.de/\",\n",
      "        \"documentation\": \"Solaranlangen und -kraftwerke (W-PV3)\",\n",
      "        \"sourceCode\": \"https://github.com/htw-pv3/weather-data\",\n",
      "        \"contact\": \"ludwig.huelk@rl-institut.de\",\n",
      "        \"grantNo\": null,\n",
      "        \"fundingAgency\": null,\n",
      "        \"fundingAgencyLogo\": null,\n",
      "        \"publisherLogo\": \"https://corporatedesign.htw-berlin.de/files/Presse/_tmp_/d/5/csm_Bild-Wort-Marke_auf_weiss_1280x853_3722b5420f.jpg\"\n",
      "    },\n",
      "    \"spatial\": {\n",
      "        \"location\": \"Wilhelminenhofstraße 75A, 12459 Berlin\",\n",
      "        \"extent\": null,\n",
      "        \"resolution\": null\n",
      "    },\n",
      "    \"temporal\": {\n",
      "        \"referenceDate\": \"2015\",\n",
      "        \"timeseries\": {\n",
      "            \"start\": \"2015-01-01 00:00:00\",\n",
      "            \"end\": \"2015-12-31 23:59:00\",\n",
      "            \"resolution\": \"1 min\",\n",
      "            \"alignment\": \"unknown\",\n",
      "            \"aggregationType\": \"unknown\"\n",
      "        }\n",
      "    },\n",
      "    \"sources\": [\n",
      "        {\n",
      "            \"title\": \"SonnJa! einleuchtend e.V.\",\n",
      "            \"description\": \"Website of the association for the promotion of teaching, science and research in the field of renewable energies\",\n",
      "            \"path\": \"http://einleuchtend.org/sonn-ja/download-und-visualisierung/\",\n",
      "            \"licenses\": [\n",
      "                {\n",
      "                    \"name\": \"unknown\",\n",
      "                    \"title\": \"unknown\",\n",
      "                    \"path\": \"http://einleuchtend.org/impressum/\",\n",
      "                    \"instruction\": \"unknown\",\n",
      "                    \"attribution\": \"©2009 - 2020 einleuchtend e.V.\"\n",
      "                }\n",
      "            ]\n",
      "        }\n",
      "    ],\n",
      "    \"licenses\": [\n",
      "        {\n",
      "            \"name\": null,\n",
      "            \"title\": null,\n",
      "            \"path\": null,\n",
      "            \"instruction\": null,\n",
      "            \"attribution\": null\n",
      "        }\n",
      "\n",
      "    ],\n",
      "    \"contributors\": [\n",
      "\t\t{\n",
      "            \"title\": \"Ludwig Hülk\",\n",
      "            \"email\": null,\n",
      "            \"date\": \"2020-04-29\",\n",
      "            \"object\": \"data\",\n",
      "            \"comment\": \"Create table\"\n",
      "        },\n",
      "        {\n",
      "            \"title\": \"htw-pv3-sose2020\",\n",
      "            \"email\": null,\n",
      "            \"date\": \"2020-05-10\",\n",
      "            \"object\": \"metadata\",\n",
      "            \"comment\": \"Add Metadata OEMetadata v.1.4 \"\n",
      "        }\n",
      "\n",
      "    ],\n",
      "    \"resources\": [\n",
      "        {\n",
      "            \"profile\": \"tabular-data-resource\",\n",
      "            \"name\": \"einleuchtend_wrdata_2015_wr1.csv\",\n",
      "            \"path\": \"https://github.com/htw-pv3/weather-data\",\n",
      "            \"format\": \"csv\",\n",
      "            \"encoding\": \"UTF-8\",\n",
      "            \"schema\": {\n",
      "                \"fields\": [\n",
      "\t\t\t\t\t{\n",
      "                        \"name\": \"timestamp\",\n",
      "                        \"description\": \"Timestamp without time zone\",\n",
      "                        \"type\": \"timestamp without time zone NOT NULL\",\n",
      "                        \"unit\": \"YYYY-MM-DD HH:MM:SS\"\n",
      "                    },\n",
      "\t\t\t\t\t{\n",
      "                        \"name\": \"wrnref\",\n",
      "                        \"description\": \"inverter reference number\",\n",
      "                        \"type\": \"varchar(3)\",\n",
      "                        \"unit\": \"text\"\n",
      "                    },\n",
      "\t\t\t\t\t{\n",
      "                        \"name\": \"u_pv\",\n",
      "                        \"description\": \"DC PV Voltage\",\n",
      "                        \"type\": \"double precision\",\n",
      "                        \"unit\": \"V\"\n",
      "                    },\n",
      "                    {\n",
      "                        \"name\": \"i_pv\",\n",
      "                        \"description\": \"DC PV Current\",\n",
      "                        \"type\": \"double precision\",\n",
      "                        \"unit\": \"A\"\n",
      "                    },\n",
      "                    {\n",
      "                        \"name\": \"p_dc\",\n",
      "                        \"description\": \"DC PV Power\",\n",
      "                        \"type\": \"double precision\",\n",
      "                        \"unit\": \"W\"\n",
      "                    },\n",
      "                    {\n",
      "                        \"name\": \"f\",\n",
      "                        \"description\": \"unknown; always zero\",\n",
      "                        \"type\": \"double precision\",\n",
      "                        \"unit\": null\n",
      "                    },\n",
      "                    {\n",
      "                        \"name\": \"u_ac\",\n",
      "                        \"description\": \"AC Voltage; always zero\",\n",
      "                        \"type\": \"double precision\",\n",
      "                        \"unit\": null\n",
      "                    },\n",
      "                    {\n",
      "                        \"name\": \"i_ac\",\n",
      "                        \"description\": \"AC Current; always zero\",\n",
      "                        \"type\": \"double precision\",\n",
      "                        \"unit\": null\n",
      "                    },\n",
      "                    {\n",
      "                        \"name\": \"p_ac\",\n",
      "                        \"description\": \"AC Power\",\n",
      "                        \"type\": \"double precision\",\n",
      "                        \"unit\": \"W\"\n",
      "                    },\n",
      "                    {\n",
      "                        \"name\": \"e_delta_wr\",\n",
      "                        \"description\": \"Energy unknown\",\n",
      "                        \"type\": \"double precision\",\n",
      "                        \"unit\": \"unknown\"\n",
      "                    },\n",
      "                    {\n",
      "                        \"name\": \"e_delta_z\",\n",
      "                        \"description\": \"Energy unknown\",\n",
      "                        \"type\": \"double precision\",\n",
      "                        \"unit\": \"unknown\"\n",
      "                    },\n",
      "                    {\n",
      "                        \"name\": \"e_total_wr\",\n",
      "                        \"description\": \"Cumulative Energy unknown\",\n",
      "                        \"type\": \"double precision\",\n",
      "                        \"unit\": \"unknown\"\n",
      "                    },\n",
      "                    {\n",
      "                        \"name\": \"e_total_z\",\n",
      "                        \"description\": \"Cumulative Energy unknown\",\n",
      "                        \"type\": \"double precision\",\n",
      "                        \"unit\": \"unknown\"\n",
      "                    },\n",
      "                    {\n",
      "                        \"name\": \"eta_wr\",\n",
      "                        \"description\": \"Efficiency Inverter\",\n",
      "                        \"type\": \"double precision\",\n",
      "                        \"unit\": \"relative\"\n",
      "                    },\n",
      "                    {\n",
      "                        \"name\": \"t_wr\",\n",
      "                        \"description\": \"Temperature Inverter; always zero\",\n",
      "                        \"type\": \"double precision\",\n",
      "                        \"unit\": null\n",
      "                    },\n",
      "                    {\n",
      "                        \"name\": \"t_pv\",\n",
      "                        \"description\": \"Temperature PV\",\n",
      "                        \"type\": \"double precision\",\n",
      "                        \"unit\": \"°C\"\n",
      "                    },\n",
      "                    {\n",
      "                        \"name\": \"r_iso\",\n",
      "                        \"description\": \"unknown; always zero\",\n",
      "                        \"type\": \"double precision\",\n",
      "                        \"unit\": \"°C\"\n",
      "                    },\n",
      "                    {\n",
      "                        \"name\": \"time_total\",\n",
      "                        \"description\": \"unknown time; always zero\",\n",
      "                        \"type\": \"double precision\",\n",
      "                        \"unit\": null\n",
      "                    },\n",
      "                    {\n",
      "                        \"name\": \"time_feedin\",\n",
      "                        \"description\": \"unknown time; always zero\",\n",
      "                        \"type\": \"double precision\",\n",
      "                        \"unit\": null\n",
      "                    },\n",
      "                    {\n",
      "                        \"name\": \"status\",\n",
      "                        \"description\": \"unknown status\",\n",
      "                        \"type\": \"double precision\",\n",
      "                        \"unit\": null\n",
      "                    },\n",
      "                    {\n",
      "                        \"name\": \"fehler\",\n",
      "                        \"description\": \"Error Code\",\n",
      "                        \"type\": \"double precision\",\n",
      "                        \"unit\": null\n",
      "                    },\n",
      "                    {\n",
      "                        \"name\": \"istberechnet\",\n",
      "                        \"description\": \"unknown\",\n",
      "                        \"type\": \"double precision\",\n",
      "                        \"unit\": null\n",
      "                    },\n",
      "                    {\n",
      "                        \"name\": \"pr\",\n",
      "                        \"description\": \"unknown\",\n",
      "                        \"type\": \"double precision\",\n",
      "                        \"unit\": null\n",
      "                    }\n",
      "                ],\n",
      "                \"primaryKey\": [\n",
      "                    \"timestamp\"\n",
      "                ],\n",
      "                \"foreignKeys\": [\n",
      "                    {\n",
      "                        \"fields\": [\n",
      "                            null\n",
      "                        ],\n",
      "                        \"reference\": {\n",
      "                            \"resource\": null,\n",
      "                            \"fields\": [\n",
      "                                null\n",
      "                            ]\n",
      "                        }\n",
      "                    }\n",
      "                ]\n",
      "            },\n",
      "            \"dialect\": {\n",
      "                \"delimiter\": \";\",\n",
      "                \"decimalSeparator\": \".\"\n",
      "            }\n",
      "        }\n",
      "    ],\n",
      "    \"review\": {\n",
      "        \"path\": null,\n",
      "        \"badge\": null\n",
      "    },\n",
      "    \"metaMetadata\": {\n",
      "        \"metadataVersion\": \"OEP-1.4.0\",\n",
      "        \"metadataLicense\": {\n",
      "            \"name\": \"CC0-1.0\",\n",
      "            \"title\": \"Creative Commons Zero v1.0 Universal\",\n",
      "            \"path\": \"https://creativecommons.org/publicdomain/zero/1.0/\"\n",
      "        }\n",
      "    },\n",
      "    \"_comment\": {\n",
      "        \"metadata\": \"Metadata documentation and explanation (https://github.com/OpenEnergyPlatform/organisation/wiki/metadata)\",\n",
      "        \"dates\": \"Dates and time must follow the ISO8601 including time zone (YYYY-MM-DD or YYYY-MM-DDThh:mm:ss±hh)\",\n",
      "        \"units\": \"Use a space between numbers and units (100 m)\",\n",
      "        \"languages\": \"Languages must follow the IETF (BCP47) format (en-GB, en-US, de-DE)\",\n",
      "        \"licenses\": \"License name must follow the SPDX License List (https://spdx.org/licenses/)\",\n",
      "        \"review\": \"Following the OEP Data Review (https://github.com/OpenEnergyPlatform/data-preprocessing/wiki)\",\n",
      "        \"null\": \"If not applicable use (null)\"\n",
      "    }\n",
      "}\n"
     ]
    }
   ],
   "source": [
    "# Database select (SQL)\n",
    "sql = text(\"\"\"SELECT obj_description('pv3.einleuchtend_wrdata_2015_wr1'::regclass);\"\"\")\n",
    "meta_str = pd.read_sql_query(sql, con).loc[0, 'obj_description']\n",
    "print(meta_str)"
   ]
  },
  {
   "cell_type": "code",
   "execution_count": 5,
   "metadata": {},
   "outputs": [],
   "source": [
    "#text_name = r'data/einleuchtend_wrdata_2015_wr1_metadata.txt'\n",
    "#with open(text_name, \"w\") as text_file:\n",
    "#    print(meta_str, file=text_file)\n",
    "#print(\"Metadata saved to file:\", text_name)"
   ]
  },
  {
   "cell_type": "markdown",
   "metadata": {},
   "source": [
    "## Select eta WR1"
   ]
  },
  {
   "cell_type": "code",
   "execution_count": 6,
   "metadata": {
    "scrolled": true
   },
   "outputs": [],
   "source": [
    "# Database select (SQL)\n",
    "sql = text(\"\"\"\n",
    "    SELECT  t_timestamp, eta_wr, v_wind, d_wind, t_luft, h_luft, p_luft, i_niederschlag, t_pv  -- column\n",
    "    FROM    pv3.pv3_time_sun_weather_wr1_2015_mview  -- table\n",
    "    \"\"\")\n",
    "df_WR1 = pd.read_sql_query(sql, con)\n",
    "df_WR1 = df_WR1.set_index('t_timestamp')"
   ]
  },
  {
   "cell_type": "markdown",
   "metadata": {},
   "source": [
    "### Corr-Plot"
   ]
  },
  {
   "cell_type": "code",
   "execution_count": 7,
   "metadata": {},
   "outputs": [],
   "source": [
    "# Nur Rows, bei denen eta_wr nicht NaN oder <= 0 ist\n",
    "df_WR1_NoNaN_NoNull = df_WR1.dropna(subset=['eta_wr'])\n",
    "df_WR1_NoNaN_NoNull = df_WR1_NoNaN_NoNull.loc[df_WR1_NoNaN_NoNull.eta_wr > 0]"
   ]
  },
  {
   "cell_type": "code",
   "execution_count": 8,
   "metadata": {},
   "outputs": [],
   "source": [
    "# Erstellen der Korrelations-Matrix\n",
    "corr_matrix = df_WR1_NoNaN_NoNull.corr()\n",
    "\n",
    "# Maske erstellen, um nur relevante Felder zu plotten\n",
    "mask = np.zeros_like(corr_matrix, dtype=np.bool)\n",
    "mask[np.triu_indices_from(mask)]= True"
   ]
  },
  {
   "cell_type": "code",
   "execution_count": 9,
   "metadata": {},
   "outputs": [
    {
     "data": {
      "image/png": "[encoded data removed]",
      "text/plain": [
       "<Figure size 792x1080 with 2 Axes>"
      ]
     },
     "metadata": {
      "needs_background": "light"
     },
     "output_type": "display_data"
    }
   ],
   "source": [
    "# Plot\n",
    "f, ax = plt.subplots(figsize=(11, 15))\n",
    "\n",
    "heatmap = sns.heatmap(corr_matrix,\n",
    "                      mask = mask,\n",
    "                      square = True,\n",
    "                      linewidths = .5,\n",
    "                      cmap = 'coolwarm',\n",
    "                      cbar_kws = {'shrink': .4, \n",
    "                                  'ticks' : [-1, -.5, 0, 0.5, 1]},\n",
    "                      vmin = -1,\n",
    "                      vmax = 1,\n",
    "                      annot = True,\n",
    "                      annot_kws = {'size': 12})#add the column names as labels\n",
    "\n",
    "ax.set_yticklabels(corr_matrix.columns, rotation = 0)\n",
    "ax.set_xticklabels(corr_matrix.columns)\n",
    "\n",
    "sns.set_style({'xtick.bottom': True}, {'ytick.left': True})"
   ]
  },
  {
   "cell_type": "markdown",
   "metadata": {},
   "source": [
    "## Select eta all WR"
   ]
  },
  {
   "cell_type": "code",
   "execution_count": 10,
   "metadata": {},
   "outputs": [],
   "source": [
    "# Database select (SQL)\n",
    "# all wr eta\n",
    "\n",
    "sql = text(\"\"\"\n",
    "    SELECT  timestamp, wr1_eta_wr, wr2_eta_wr, wr3_eta_wr, wr4_eta_wr, wr5_eta_wr,\n",
    "    v_wind, d_wind, t_luft, h_luft, p_luft, i_niederschlag   -- column\n",
    "    FROM    pv3.pv3_time_sun_weather_allwr_2015_mview  -- table\n",
    "    \"\"\")\n",
    "df_etaAllWr = pd.read_sql_query(sql, con)\n",
    "df_etaAllWr = df_etaAllWr.set_index('timestamp')\n",
    "#df_etaAllWr.head()"
   ]
  },
  {
   "cell_type": "code",
   "execution_count": 11,
   "metadata": {},
   "outputs": [],
   "source": [
    "# Nur Rows, bei denen eta_wr nicht NaN oder <= 0 ist\n",
    "df_etaAllWr_NoNaN_NoNull = df_etaAllWr.dropna(subset=['wr1_eta_wr', 'wr2_eta_wr',\n",
    "                                                     'wr3_eta_wr', 'wr4_eta_wr',\n",
    "                                                     'wr5_eta_wr'])\n",
    "df_etaAllWr_NoNaN_NoNull = df_etaAllWr_NoNaN_NoNull.loc[(df_etaAllWr_NoNaN_NoNull.wr1_eta_wr > 0) &\n",
    "                                                        (df_etaAllWr_NoNaN_NoNull.wr2_eta_wr > 0) &\n",
    "                                                        (df_etaAllWr_NoNaN_NoNull.wr3_eta_wr > 0) &\n",
    "                                                        (df_etaAllWr_NoNaN_NoNull.wr4_eta_wr > 0) &\n",
    "                                                        (df_etaAllWr_NoNaN_NoNull.wr5_eta_wr > 0)]\n",
    "#df_etaAllWr_NoNaN_NoNull.head()"
   ]
  },
  {
   "cell_type": "code",
   "execution_count": 12,
   "metadata": {},
   "outputs": [
    {
     "data": {
      "text/html": [
       "<div>\n",
       "<style scoped>\n",
       "    .dataframe tbody tr th:only-of-type {\n",
       "        vertical-align: middle;\n",
       "    }\n",
       "\n",
       "    .dataframe tbody tr th {\n",
       "        vertical-align: top;\n",
       "    }\n",
       "\n",
       "    .dataframe thead th {\n",
       "        text-align: right;\n",
       "    }\n",
       "</style>\n",
       "<table border=\"1\" class=\"dataframe\">\n",
       "  <thead>\n",
       "    <tr style=\"text-align: right;\">\n",
       "      <th></th>\n",
       "      <th>v_wind</th>\n",
       "      <th>d_wind</th>\n",
       "      <th>t_luft</th>\n",
       "      <th>h_luft</th>\n",
       "      <th>p_luft</th>\n",
       "      <th>i_niederschlag</th>\n",
       "    </tr>\n",
       "  </thead>\n",
       "  <tbody>\n",
       "    <tr>\n",
       "      <th>wr1_eta_wr</th>\n",
       "      <td>0.017151</td>\n",
       "      <td>0.008429</td>\n",
       "      <td>0.209433</td>\n",
       "      <td>-0.244682</td>\n",
       "      <td>0.027470</td>\n",
       "      <td>-0.001271</td>\n",
       "    </tr>\n",
       "    <tr>\n",
       "      <th>wr2_eta_wr</th>\n",
       "      <td>0.019029</td>\n",
       "      <td>-0.001934</td>\n",
       "      <td>0.259911</td>\n",
       "      <td>-0.279319</td>\n",
       "      <td>0.037056</td>\n",
       "      <td>-0.000697</td>\n",
       "    </tr>\n",
       "    <tr>\n",
       "      <th>wr3_eta_wr</th>\n",
       "      <td>0.027755</td>\n",
       "      <td>0.013947</td>\n",
       "      <td>0.211915</td>\n",
       "      <td>-0.301611</td>\n",
       "      <td>0.032876</td>\n",
       "      <td>-0.001013</td>\n",
       "    </tr>\n",
       "    <tr>\n",
       "      <th>wr4_eta_wr</th>\n",
       "      <td>0.024260</td>\n",
       "      <td>0.006283</td>\n",
       "      <td>0.353435</td>\n",
       "      <td>-0.410766</td>\n",
       "      <td>0.045195</td>\n",
       "      <td>-0.003648</td>\n",
       "    </tr>\n",
       "    <tr>\n",
       "      <th>wr5_eta_wr</th>\n",
       "      <td>-0.005277</td>\n",
       "      <td>-0.005559</td>\n",
       "      <td>0.242094</td>\n",
       "      <td>-0.262407</td>\n",
       "      <td>0.060487</td>\n",
       "      <td>-0.005635</td>\n",
       "    </tr>\n",
       "  </tbody>\n",
       "</table>\n",
       "</div>"
      ],
      "text/plain": [
       "              v_wind    d_wind    t_luft    h_luft    p_luft  i_niederschlag\n",
       "wr1_eta_wr  0.017151  0.008429  0.209433 -0.244682  0.027470       -0.001271\n",
       "wr2_eta_wr  0.019029 -0.001934  0.259911 -0.279319  0.037056       -0.000697\n",
       "wr3_eta_wr  0.027755  0.013947  0.211915 -0.301611  0.032876       -0.001013\n",
       "wr4_eta_wr  0.024260  0.006283  0.353435 -0.410766  0.045195       -0.003648\n",
       "wr5_eta_wr -0.005277 -0.005559  0.242094 -0.262407  0.060487       -0.005635"
      ]
     },
     "execution_count": 12,
     "metadata": {},
     "output_type": "execute_result"
    }
   ],
   "source": [
    "corr_matrix = df_etaAllWr_NoNaN_NoNull.corr()\n",
    "corr_matrix_clean = corr_matrix[:5].drop(corr_matrix.columns[:5], axis=1)\n",
    "corr_matrix_clean"
   ]
  },
  {
   "cell_type": "code",
   "execution_count": 13,
   "metadata": {
    "code_folding": []
   },
   "outputs": [
    {
     "data": {
      "image/png": "[encoded data removed]",
      "text/plain": [
       "<Figure size 792x1080 with 2 Axes>"
      ]
     },
     "metadata": {
      "needs_background": "light"
     },
     "output_type": "display_data"
    }
   ],
   "source": [
    "# Plot\n",
    "f, ax = plt.subplots(figsize=(11, 15))\n",
    "\n",
    "heatmap = sns.heatmap(corr_matrix_clean,\n",
    "#                      mask = mask,\n",
    "                      square = True,\n",
    "                      linewidths = .5,\n",
    "                      #cmap = 'coolwarm',\n",
    "                      cmap=sns.diverging_palette(220, 10, as_cmap=True),\n",
    "                      cbar_kws = {'shrink': .4, \n",
    "                                  'ticks' : [-.5, -.25, 0, 0.25, .5]},\n",
    "                      vmin = -0.5,\n",
    "                      vmax = 0.5,\n",
    "                      annot = True,\n",
    "                      annot_kws = {'size': 12})#add the column names as labels\n",
    "\n",
    "ax.set_yticklabels(corr_matrix_clean.index, rotation = 0)\n",
    "ax.set_xticklabels(corr_matrix_clean.columns)\n",
    "\n",
    "sns.set_style({'xtick.bottom': True}, {'ytick.left': True})"
   ]
  },
  {
   "cell_type": "code",
   "execution_count": 14,
   "metadata": {},
   "outputs": [],
   "source": [
    "heatmap.get_figure().savefig('heatmap.svg', bbox_inches='tight', dpi=300)"
   ]
  },
  {
   "cell_type": "markdown",
   "metadata": {},
   "source": [
    "## Select eta p_ac all WR"
   ]
  },
  {
   "cell_type": "code",
   "execution_count": 15,
   "metadata": {
    "scrolled": true
   },
   "outputs": [
    {
     "data": {
      "text/html": [
       "<div>\n",
       "<style scoped>\n",
       "    .dataframe tbody tr th:only-of-type {\n",
       "        vertical-align: middle;\n",
       "    }\n",
       "\n",
       "    .dataframe tbody tr th {\n",
       "        vertical-align: top;\n",
       "    }\n",
       "\n",
       "    .dataframe thead th {\n",
       "        text-align: right;\n",
       "    }\n",
       "</style>\n",
       "<table border=\"1\" class=\"dataframe\">\n",
       "  <thead>\n",
       "    <tr style=\"text-align: right;\">\n",
       "      <th></th>\n",
       "      <th>wr1_p_ac</th>\n",
       "      <th>wr2_p_ac</th>\n",
       "      <th>wr3_p_ac</th>\n",
       "      <th>wr4_p_ac</th>\n",
       "      <th>wr5_p_ac</th>\n",
       "      <th>wr1_eta_wr</th>\n",
       "      <th>wr2_eta_wr</th>\n",
       "      <th>wr3_eta_wr</th>\n",
       "      <th>wr4_eta_wr</th>\n",
       "      <th>wr5_eta_wr</th>\n",
       "    </tr>\n",
       "    <tr>\n",
       "      <th>timestamp</th>\n",
       "      <th></th>\n",
       "      <th></th>\n",
       "      <th></th>\n",
       "      <th></th>\n",
       "      <th></th>\n",
       "      <th></th>\n",
       "      <th></th>\n",
       "      <th></th>\n",
       "      <th></th>\n",
       "      <th></th>\n",
       "    </tr>\n",
       "  </thead>\n",
       "  <tbody>\n",
       "    <tr>\n",
       "      <th>2015-01-01 00:00:00</th>\n",
       "      <td>0.0</td>\n",
       "      <td>0.0</td>\n",
       "      <td>0.0</td>\n",
       "      <td>0.0</td>\n",
       "      <td>0.0</td>\n",
       "      <td>0.0</td>\n",
       "      <td>0.0</td>\n",
       "      <td>0.0</td>\n",
       "      <td>0.0</td>\n",
       "      <td>0.0</td>\n",
       "    </tr>\n",
       "    <tr>\n",
       "      <th>2015-01-01 00:01:00</th>\n",
       "      <td>0.0</td>\n",
       "      <td>0.0</td>\n",
       "      <td>0.0</td>\n",
       "      <td>0.0</td>\n",
       "      <td>0.0</td>\n",
       "      <td>0.0</td>\n",
       "      <td>0.0</td>\n",
       "      <td>0.0</td>\n",
       "      <td>0.0</td>\n",
       "      <td>0.0</td>\n",
       "    </tr>\n",
       "    <tr>\n",
       "      <th>2015-01-01 00:02:00</th>\n",
       "      <td>0.0</td>\n",
       "      <td>0.0</td>\n",
       "      <td>0.0</td>\n",
       "      <td>0.0</td>\n",
       "      <td>0.0</td>\n",
       "      <td>0.0</td>\n",
       "      <td>0.0</td>\n",
       "      <td>0.0</td>\n",
       "      <td>0.0</td>\n",
       "      <td>0.0</td>\n",
       "    </tr>\n",
       "    <tr>\n",
       "      <th>2015-01-01 00:03:00</th>\n",
       "      <td>0.0</td>\n",
       "      <td>0.0</td>\n",
       "      <td>0.0</td>\n",
       "      <td>0.0</td>\n",
       "      <td>0.0</td>\n",
       "      <td>0.0</td>\n",
       "      <td>0.0</td>\n",
       "      <td>0.0</td>\n",
       "      <td>0.0</td>\n",
       "      <td>0.0</td>\n",
       "    </tr>\n",
       "    <tr>\n",
       "      <th>2015-01-01 00:04:00</th>\n",
       "      <td>0.0</td>\n",
       "      <td>0.0</td>\n",
       "      <td>0.0</td>\n",
       "      <td>0.0</td>\n",
       "      <td>0.0</td>\n",
       "      <td>0.0</td>\n",
       "      <td>0.0</td>\n",
       "      <td>0.0</td>\n",
       "      <td>0.0</td>\n",
       "      <td>0.0</td>\n",
       "    </tr>\n",
       "  </tbody>\n",
       "</table>\n",
       "</div>"
      ],
      "text/plain": [
       "                     wr1_p_ac  wr2_p_ac  wr3_p_ac  wr4_p_ac  wr5_p_ac  \\\n",
       "timestamp                                                               \n",
       "2015-01-01 00:00:00       0.0       0.0       0.0       0.0       0.0   \n",
       "2015-01-01 00:01:00       0.0       0.0       0.0       0.0       0.0   \n",
       "2015-01-01 00:02:00       0.0       0.0       0.0       0.0       0.0   \n",
       "2015-01-01 00:03:00       0.0       0.0       0.0       0.0       0.0   \n",
       "2015-01-01 00:04:00       0.0       0.0       0.0       0.0       0.0   \n",
       "\n",
       "                     wr1_eta_wr  wr2_eta_wr  wr3_eta_wr  wr4_eta_wr  \\\n",
       "timestamp                                                             \n",
       "2015-01-01 00:00:00         0.0         0.0         0.0         0.0   \n",
       "2015-01-01 00:01:00         0.0         0.0         0.0         0.0   \n",
       "2015-01-01 00:02:00         0.0         0.0         0.0         0.0   \n",
       "2015-01-01 00:03:00         0.0         0.0         0.0         0.0   \n",
       "2015-01-01 00:04:00         0.0         0.0         0.0         0.0   \n",
       "\n",
       "                     wr5_eta_wr  \n",
       "timestamp                        \n",
       "2015-01-01 00:00:00         0.0  \n",
       "2015-01-01 00:01:00         0.0  \n",
       "2015-01-01 00:02:00         0.0  \n",
       "2015-01-01 00:03:00         0.0  \n",
       "2015-01-01 00:04:00         0.0  "
      ]
     },
     "execution_count": 15,
     "metadata": {},
     "output_type": "execute_result"
    }
   ],
   "source": [
    "# Database select (SQL)\n",
    "sql = text(\"\"\"\n",
    "    SELECT  timestamp, wr1_p_ac, wr2_p_ac, wr3_p_ac, wr4_p_ac, wr5_p_ac,\n",
    "    wr1_eta_wr, wr2_eta_wr, wr3_eta_wr, wr4_eta_wr, wr5_eta_wr -- column\n",
    "    FROM    pv3.pv3_time_sun_weather_allwr_2015_mview  -- table\n",
    "    \"\"\")\n",
    "df_etaP = pd.read_sql_query(sql, con)\n",
    "df_etaP = df_etaP.set_index('timestamp')\n",
    "df_etaP_filled = df_etaP.fillna(0)\n",
    "df_etaP_filled.head()"
   ]
  },
  {
   "cell_type": "code",
   "execution_count": 16,
   "metadata": {},
   "outputs": [],
   "source": [
    "df_reH = df_etaP_filled.resample('1H').mean()"
   ]
  },
  {
   "cell_type": "code",
   "execution_count": 17,
   "metadata": {},
   "outputs": [],
   "source": [
    "def density_scatter(x, y, ax, sort = True, bins = 20, **kwargs):\n",
    "    \"\"\"\n",
    "    Scatter plot colored by 2d histogram\n",
    "    \"\"\"\n",
    "    if ax is None:\n",
    "        fig, ax = plt.subplots()\n",
    "    data, x_e, y_e = np.histogram2d(x, y, bins = bins, density = True)\n",
    "    z = interpn(( 0.5*(x_e[1:] + x_e[:-1]), 0.5*(y_e[1:]+y_e[:-1])),\n",
    "                data, np.vstack([x,y]).T, method = \"splinef2d\", bounds_error = False)\n",
    "\n",
    "    #To be sure to plot all data\n",
    "    z[np.where(np.isnan(z))] = 0.0\n",
    "\n",
    "    # Sort the points by density, so that the densest points are plotted last\n",
    "    if sort:\n",
    "        idx = z.argsort()\n",
    "        x, y, z = x[idx], y[idx], z[idx]\n",
    "\n",
    "    ax.scatter(x, y, c=z, **kwargs)\n",
    "\n",
    "    #norm = Normalize(vmin = np.min(z), vmax = np.max(z))\n",
    "    #cbar = fig.colorbar(cm.ScalarMappable(norm = norm), ax=ax)\n",
    "    #cbar.ax.set_ylabel('Density')\n",
    "\n",
    "    return ax"
   ]
  },
  {
   "cell_type": "code",
   "execution_count": 18,
   "metadata": {},
   "outputs": [
    {
     "data": {
      "image/png": "[encoded data removed]",
      "text/plain": [
       "<Figure size 595.44x841.68 with 10 Axes>"
      ]
     },
     "metadata": {
      "needs_background": "light"
     },
     "output_type": "display_data"
    }
   ],
   "source": [
    "fig, axs = plt.subplots(5,2, figsize=(8.27, 11.69), constrained_layout=True)\n",
    "#fig.subplots_adjust(hspace = .5, wspace=.001)\n",
    "\n",
    "#axs = axs.ravel()\n",
    "\n",
    "sns.set()\n",
    "\n",
    "for i in range(5):\n",
    "    density_scatter(df_etaP_filled.iloc[:,i].multiply(1/1000), df_etaP_filled.iloc[:,i+5].multiply(100),\n",
    "                    axs[i,0], bins = [200,200], marker=\".\")\n",
    "    axs[i,0].set_ylim(0, 160)\n",
    "    axs[i,0].set_xlim(-0.1, 3)\n",
    "    axs[i,0].set_title('WR{}'.format(i+1))\n",
    "    axs[i,0].set_ylabel(r'Wirkungsgrad in $\\%$')\n",
    "    axs[i,0].set_xlabel(r'AC-Leistung in $kW$')\n",
    "    \n",
    "    density_scatter(df_reH.iloc[:,i].multiply(1/1000), df_reH.iloc[:,i+5].multiply(100),\n",
    "                    axs[i,1], bins = [200,200], marker=\".\")\n",
    "    axs[i,1].set_ylim(0, 160)\n",
    "    axs[i,1].set_xlim(-0.1, 3)\n",
    "    axs[i,1].set_title('WR{}'.format(i+1))\n",
    "    axs[i,1].set_ylabel(r'Wirkungsgrad in $\\%$')\n",
    "    axs[i,1].set_xlabel(r'AC-Leistung in $kW$')\n",
    "\n",
    "#fig.delaxes(axs[5])\n",
    "\n",
    "#fig.savefig('density_scatter_allWR.png', format='png', bbox_inches='tight', dpi=300)"
   ]
  },
  {
   "cell_type": "code",
   "execution_count": 19,
   "metadata": {},
   "outputs": [],
   "source": [
    "fig.savefig('density_scatter_allWR.png', format='png', bbox_inches='tight', dpi=600)"
   ]
  },
  {
   "cell_type": "code",
   "execution_count": null,
   "metadata": {},
   "outputs": [],
   "source": []
  },
  {
   "cell_type": "code",
   "execution_count": null,
   "metadata": {},
   "outputs": [],
   "source": []
  },
  {
   "cell_type": "markdown",
   "metadata": {},
   "source": [
    "## Select all WR\n",
    "\n",
    "Requires script: htw_pv3_postgresql_06_data_join.sql"
   ]
  },
  {
   "cell_type": "code",
   "execution_count": 20,
   "metadata": {},
   "outputs": [],
   "source": [
    "# Database select (SQL)\n",
    "sql = text(\"\"\"\n",
    "    SELECT  timestamp, g_gen_cmp11, wr1_p_ac, wr2_p_ac, wr3_p_ac, wr4_p_ac, wr5_p_ac   -- column\n",
    "    FROM    pv3.pv3_time_sun_weather_allwr_2015_mview  -- table\n",
    "    \"\"\")\n",
    "df = pd.read_sql_query(sql, con)\n",
    "df = df.set_index('timestamp')"
   ]
  },
  {
   "cell_type": "markdown",
   "metadata": {},
   "source": [
    "### Netzeinspeisung bestimmen"
   ]
  },
  {
   "cell_type": "code",
   "execution_count": 21,
   "metadata": {},
   "outputs": [
    {
     "data": {
      "text/html": [
       "<div>\n",
       "<style scoped>\n",
       "    .dataframe tbody tr th:only-of-type {\n",
       "        vertical-align: middle;\n",
       "    }\n",
       "\n",
       "    .dataframe tbody tr th {\n",
       "        vertical-align: top;\n",
       "    }\n",
       "\n",
       "    .dataframe thead th {\n",
       "        text-align: right;\n",
       "    }\n",
       "</style>\n",
       "<table border=\"1\" class=\"dataframe\">\n",
       "  <thead>\n",
       "    <tr style=\"text-align: right;\">\n",
       "      <th></th>\n",
       "      <th>g_gen_cmp11</th>\n",
       "      <th>wr1_p_ac</th>\n",
       "      <th>wr2_p_ac</th>\n",
       "      <th>wr3_p_ac</th>\n",
       "      <th>wr4_p_ac</th>\n",
       "      <th>wr5_p_ac</th>\n",
       "    </tr>\n",
       "    <tr>\n",
       "      <th>timestamp</th>\n",
       "      <th></th>\n",
       "      <th></th>\n",
       "      <th></th>\n",
       "      <th></th>\n",
       "      <th></th>\n",
       "      <th></th>\n",
       "    </tr>\n",
       "  </thead>\n",
       "  <tbody>\n",
       "    <tr>\n",
       "      <th>2015-01-01 10:00:00</th>\n",
       "      <td>0.0</td>\n",
       "      <td>271.0</td>\n",
       "      <td>304.0</td>\n",
       "      <td>334.0</td>\n",
       "      <td>216.00</td>\n",
       "      <td>284.83</td>\n",
       "    </tr>\n",
       "    <tr>\n",
       "      <th>2015-01-01 10:01:00</th>\n",
       "      <td>0.0</td>\n",
       "      <td>302.0</td>\n",
       "      <td>345.0</td>\n",
       "      <td>378.0</td>\n",
       "      <td>223.83</td>\n",
       "      <td>321.50</td>\n",
       "    </tr>\n",
       "    <tr>\n",
       "      <th>2015-01-01 10:02:00</th>\n",
       "      <td>0.0</td>\n",
       "      <td>311.0</td>\n",
       "      <td>369.0</td>\n",
       "      <td>403.0</td>\n",
       "      <td>221.17</td>\n",
       "      <td>354.60</td>\n",
       "    </tr>\n",
       "    <tr>\n",
       "      <th>2015-01-01 10:03:00</th>\n",
       "      <td>0.0</td>\n",
       "      <td>239.0</td>\n",
       "      <td>280.0</td>\n",
       "      <td>301.0</td>\n",
       "      <td>196.33</td>\n",
       "      <td>279.67</td>\n",
       "    </tr>\n",
       "    <tr>\n",
       "      <th>2015-01-01 10:04:00</th>\n",
       "      <td>0.0</td>\n",
       "      <td>213.0</td>\n",
       "      <td>238.0</td>\n",
       "      <td>261.0</td>\n",
       "      <td>188.80</td>\n",
       "      <td>225.83</td>\n",
       "    </tr>\n",
       "  </tbody>\n",
       "</table>\n",
       "</div>"
      ],
      "text/plain": [
       "                     g_gen_cmp11  wr1_p_ac  wr2_p_ac  wr3_p_ac  wr4_p_ac  \\\n",
       "timestamp                                                                  \n",
       "2015-01-01 10:00:00          0.0     271.0     304.0     334.0    216.00   \n",
       "2015-01-01 10:01:00          0.0     302.0     345.0     378.0    223.83   \n",
       "2015-01-01 10:02:00          0.0     311.0     369.0     403.0    221.17   \n",
       "2015-01-01 10:03:00          0.0     239.0     280.0     301.0    196.33   \n",
       "2015-01-01 10:04:00          0.0     213.0     238.0     261.0    188.80   \n",
       "\n",
       "                     wr5_p_ac  \n",
       "timestamp                      \n",
       "2015-01-01 10:00:00    284.83  \n",
       "2015-01-01 10:01:00    321.50  \n",
       "2015-01-01 10:02:00    354.60  \n",
       "2015-01-01 10:03:00    279.67  \n",
       "2015-01-01 10:04:00    225.83  "
      ]
     },
     "execution_count": 21,
     "metadata": {},
     "output_type": "execute_result"
    }
   ],
   "source": [
    "df.iloc[600:605, :]"
   ]
  },
  {
   "cell_type": "code",
   "execution_count": 22,
   "metadata": {},
   "outputs": [
    {
     "data": {
      "text/plain": [
       "3307.27595"
      ]
     },
     "execution_count": 22,
     "metadata": {},
     "output_type": "execute_result"
    }
   ],
   "source": [
    "df.wr1_p_ac.sum() / (1000 * 60)"
   ]
  },
  {
   "cell_type": "code",
   "execution_count": 23,
   "metadata": {},
   "outputs": [],
   "source": [
    "df_FeedIn = df.groupby([lambda x: x.year, lambda x: x.month]).sum().multiply(1/(60 * 1000))"
   ]
  },
  {
   "cell_type": "code",
   "execution_count": 27,
   "metadata": {},
   "outputs": [],
   "source": [
    "df_FeedIn.to_excel('2020-07-10_FeedIn.xlsx')"
   ]
  },
  {
   "cell_type": "code",
   "execution_count": null,
   "metadata": {},
   "outputs": [],
   "source": []
  },
  {
   "cell_type": "code",
   "execution_count": null,
   "metadata": {},
   "outputs": [],
   "source": []
  },
  {
   "cell_type": "code",
   "execution_count": null,
   "metadata": {},
   "outputs": [],
   "source": []
  },
  {
   "cell_type": "code",
   "execution_count": null,
   "metadata": {},
   "outputs": [],
   "source": []
  },
  {
   "cell_type": "markdown",
   "metadata": {},
   "source": [
    "### Plot all WR (takes a minute)"
   ]
  },
  {
   "cell_type": "code",
   "execution_count": null,
   "metadata": {
    "scrolled": true
   },
   "outputs": [],
   "source": [
    "ax = df.plot(figsize=(12, 4), lw=0.25)"
   ]
  },
  {
   "cell_type": "markdown",
   "metadata": {},
   "source": [
    "### Resample to 1 hour"
   ]
  },
  {
   "cell_type": "code",
   "execution_count": null,
   "metadata": {
    "scrolled": true
   },
   "outputs": [],
   "source": [
    "df_reH = df.resample('1H').mean()\n",
    "ax = df_reH.plot(figsize=(12, 4), lw=0.75)"
   ]
  },
  {
   "cell_type": "markdown",
   "metadata": {},
   "source": [
    "### Resample to 1 day"
   ]
  },
  {
   "cell_type": "code",
   "execution_count": null,
   "metadata": {
    "scrolled": true
   },
   "outputs": [],
   "source": [
    "df_reD = df.resample('1D').mean()\n",
    "ax = df_reD.plot(figsize=(12, 4), lw=0.75)"
   ]
  },
  {
   "cell_type": "markdown",
   "metadata": {},
   "source": [
    "### Resample to 1 month"
   ]
  },
  {
   "cell_type": "code",
   "execution_count": null,
   "metadata": {},
   "outputs": [],
   "source": [
    "df_reM = df.resample('1M').mean()\n",
    "ax = df_reM.plot(figsize=(12, 4), lw=0.75)"
   ]
  },
  {
   "cell_type": "markdown",
   "metadata": {},
   "source": [
    "### Bar plot per month"
   ]
  },
  {
   "cell_type": "code",
   "execution_count": null,
   "metadata": {},
   "outputs": [],
   "source": [
    "df_reM = df.resample('1M').mean()\n",
    "ax = df_reM.plot.bar(figsize=(12, 4), stacked=False, colormap='viridis')"
   ]
  },
  {
   "cell_type": "code",
   "execution_count": null,
   "metadata": {},
   "outputs": [],
   "source": []
  },
  {
   "cell_type": "markdown",
   "metadata": {},
   "source": [
    "# Metadata\n",
    "\n",
    "The important information from the above select (**df**) is collected in a Dictionary (**info_dict**)."
   ]
  },
  {
   "cell_type": "code",
   "execution_count": null,
   "metadata": {},
   "outputs": [],
   "source": [
    "# Facts dict\n",
    "info_dict = {}\n",
    "info_dict['Filename'] = ['{}_pv3_sonnja_plot_all_wr'.format(pd.to_datetime('today').strftime(\"%Y-%m-%d\"))]\n",
    "info_dict['Value'] = ['Leistung (P_AC)']\n",
    "info_dict['Unit'] = ['W']\n",
    "info_dict['Y-Axis'] = ['{} in {}'.format(*info_dict['Value'], *info_dict['Unit'])]\n",
    "info_dict['X-Axis'] = ['Stunde im Jahr']\n",
    "info_dict['Title'] = ['Alle Wechselrichter']\n",
    "info_dict['Metadata'] = [meta_str]\n",
    "\n",
    "# Print facts\n",
    "# for x in info_dict:\n",
    "#     print(x,':',info_dict[x])"
   ]
  },
  {
   "cell_type": "markdown",
   "metadata": {},
   "source": [
    "## Plot with Metadata"
   ]
  },
  {
   "cell_type": "code",
   "execution_count": null,
   "metadata": {},
   "outputs": [],
   "source": [
    "sns.set_palette(\"husl\")\n",
    "mfig = plt.figure(figsize=(12, 5))\n",
    "ax = plt.subplot()\n",
    "plt.title(*info_dict['Title'], fontsize=16)         # Title from info\n",
    "plt.ylabel(*info_dict['Y-Axis'])                    # Label from info\n",
    "df.resample('1H').mean().plot(ax=ax, lw=0.5, markeredgewidth=3)\n",
    "ax.set_ylim(ymin=0)"
   ]
  },
  {
   "cell_type": "markdown",
   "metadata": {},
   "source": [
    "## Interactive Plot with Metadata"
   ]
  },
  {
   "cell_type": "code",
   "execution_count": null,
   "metadata": {},
   "outputs": [],
   "source": [
    "# Interactive plot\n",
    "data = [\n",
    "    go.Scatter(x=df_reD.index.tolist(), \n",
    "               y=df_reD['wr1_p_ac'].tolist(), \n",
    "               name='WR1', line=dict(), mode='lines'),\n",
    "    go.Scatter(x=df_reD.index.tolist(), \n",
    "               y=df_reD['wr2_p_ac'].tolist(), \n",
    "               name='WR2', line=dict(), mode='lines'),\n",
    "    go.Scatter(x=df_reD.index.tolist(), \n",
    "               y=df_reD['wr3_p_ac'].tolist(), \n",
    "               name='WR3', line=dict(), mode='lines'),\n",
    "    go.Scatter(x=df_reD.index.tolist(), \n",
    "               y=df_reD['wr4_p_ac'].tolist(), \n",
    "               name='WR4', line=dict(), mode='lines'),\n",
    "    go.Scatter(x=df_reD.index.tolist(), \n",
    "               y=df_reD['wr5_p_ac'].tolist(), \n",
    "               name='WR5', line=dict(), mode='lines'),\n",
    "    go.Scatter(x=df_reD.index.tolist(), \n",
    "               y=df_reD['g_gen_cmp11'].tolist(), \n",
    "               name='CMP11', line=dict(), mode='lines'),\n",
    "]\n",
    "layout = go.Layout(\n",
    "    title=''.join(info_dict['Title']),\n",
    "    yaxis=dict(title=''.join(info_dict['Y-Axis'])),\n",
    "    xaxis=dict(title=''.join(info_dict['X-Axis']))\n",
    ")\n",
    "fig = go.Figure(data=data, layout=layout)\n",
    "pltly.iplot(fig)"
   ]
  },
  {
   "cell_type": "markdown",
   "metadata": {},
   "source": [
    "### One WR"
   ]
  },
  {
   "cell_type": "code",
   "execution_count": null,
   "metadata": {},
   "outputs": [],
   "source": [
    "# Interactive plot\n",
    "sns.set_style('ticks')\n",
    "trace_line = go.Scatter(x=df_reD.index.tolist(), \n",
    "                        y=df_reD['wr1_p_ac'].tolist(), \n",
    "                        name='WR1 täglich', line=dict(), mode='lines')\n",
    "trace_bar = go.Bar(x=df_reM.index.tolist(), \n",
    "                   y=df_reM['wr1_p_ac'].tolist(), \n",
    "                   name='WR1 monatlich', marker=dict())\n",
    "layout = go.Layout(\n",
    "    title=''.join(info_dict['Title']),\n",
    "    yaxis=dict(title=''.join(info_dict['Y-Axis'])),\n",
    "    xaxis=dict(title=''.join(info_dict['X-Axis']))\n",
    ")\n",
    "ifig = go.Figure(data=[trace_bar, trace_line], layout=layout)\n",
    "pltly.iplot(ifig)"
   ]
  },
  {
   "cell_type": "markdown",
   "metadata": {},
   "source": [
    "## Save results to files\n",
    "\n",
    "The results are saved to cooresponding files in a folder named **data**.<br>\n",
    "The **info_dict** is saved to a text file (txt).<br>\n",
    "The **data** is saved to a table (csv).<br>\n",
    "The **plot** is saved as an image (png).<br>\n",
    "The **interactive plot** is saved as a webpage (html). It will also open in a new tab of your browser."
   ]
  },
  {
   "cell_type": "code",
   "execution_count": null,
   "metadata": {},
   "outputs": [],
   "source": [
    "# Write facts to textfile\n",
    "txtname = ('data/{}.txt').format(*info_dict['Filename'])\n",
    "with open(txtname,'w') as tfile:\n",
    "    for i in info_dict.keys():\n",
    "        tfile.write(i + \": \" + ', '.join([str(x) for x in info_dict[i]]) + \"\\n\")\n",
    "tfile.close()\n",
    "print(\"Facts saved to file:\", txtname)\n",
    "\n",
    "# Save data to CSV\n",
    "csvname = 'data/{}.csv' .format(*info_dict['Filename'])\n",
    "df_reH.to_csv(csvname, sep=';')\n",
    "print(\"Data saved to file:\", csvname)\n",
    "\n",
    "# Save plot as file\n",
    "plotname = 'data/{}.png' .format(*info_dict['Filename'])\n",
    "mfig.savefig(plotname, bbox_inches='tight')\n",
    "print(\"Plot saved to file:\", plotname)\n",
    "\n",
    "# Save interactive plot\n",
    "htmlname = 'data/{}.html' .format(*info_dict['Filename'])\n",
    "pltly.plot(ifig, filename=htmlname)\n",
    "print(\"Interactive plot saved to file:\", htmlname)"
   ]
  },
  {
   "cell_type": "code",
   "execution_count": null,
   "metadata": {},
   "outputs": [],
   "source": []
  }
 ],
 "metadata": {
  "kernelspec": {
   "display_name": "Python 3",
   "language": "python",
   "name": "python3"
  },
  "language_info": {
   "codemirror_mode": {
    "name": "ipython",
    "version": 3
   },
   "file_extension": ".py",
   "mimetype": "text/x-python",
   "name": "python",
   "nbconvert_exporter": "python",
   "pygments_lexer": "ipython3",
   "version": "3.7.7"
  },
  "toc": {
   "base_numbering": 1,
   "nav_menu": {},
   "number_sections": true,
   "sideBar": true,
   "skip_h1_title": false,
   "title_cell": "Table of Contents",
   "title_sidebar": "Contents",
   "toc_cell": false,
   "toc_position": {},
   "toc_section_display": true,
   "toc_window_display": false
  }
 },
 "nbformat": 4,
 "nbformat_minor": 2
}
