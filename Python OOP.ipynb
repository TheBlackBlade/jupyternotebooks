{
 "cells": [
  {
   "cell_type": "markdown",
   "metadata": {},
   "source": [
    "## Lib import"
   ]
  },
  {
   "cell_type": "code",
   "execution_count": 3,
   "metadata": {},
   "outputs": [],
   "source": [
    "import names\n",
    "import random\n",
    "import pandas as pd"
   ]
  },
  {
   "cell_type": "markdown",
   "metadata": {},
   "source": [
    "## Create Class"
   ]
  },
  {
   "cell_type": "code",
   "execution_count": 4,
   "metadata": {},
   "outputs": [],
   "source": [
    "class Employee:\n",
    "    \n",
    "    num_of_emps = 0\n",
    "    emp_list = []\n",
    "    raise_amt = 1.04    \n",
    "    last_id = 0\n",
    "    \n",
    "    def __init__(self, first, last, pay):\n",
    "        self.id = int(Employee.last_id+1)\n",
    "        self.first = first\n",
    "        self.last = last\n",
    "        self.pay = pay\n",
    "        self.tag = 'Employee'\n",
    "        Employee.emp_list.append(self)\n",
    "        Employee.num_of_emps = len(Employee.emp_list)\n",
    "        Employee.last_id += 1\n",
    "\n",
    "    def apply_raise(self):\n",
    "        self.pay = int(self.pay * self.raise_amount)\n",
    "        \n",
    "    def fire_emp(self):\n",
    "        Employee.emp_list.remove(self)\n",
    "        Employee.num_of_emps = len(Employee.emp_list)\n",
    "        del self\n",
    "        \n",
    "    @property\n",
    "    def email(self):\n",
    "        return '{}.{}@awesome.com'.format(self.first.lower(), self.last.lower())\n",
    "    \n",
    "    @property\n",
    "    def fullname(self):\n",
    "        return '{} {}'.format(self.first, self.last)\n",
    "    \n",
    "    @classmethod\n",
    "    def set_raise_amt(cls, amount):\n",
    "        cls.raise_amt = amount\n",
    "    \n",
    "    @classmethod\n",
    "    def get_df(cls):        \n",
    "        df = pd.DataFrame()\n",
    "        for emp in Employee.emp_list:\n",
    "            df = df.append({'ID': emp.id, 'First': emp.first, 'Last': emp.last, 'Pay': emp.pay, 'Email': emp.email, 'Tag': emp.tag}, ignore_index=True)\n",
    "            df = df.astype({'ID': int, 'Pay': float})\n",
    "            df = df.reindex(columns=['ID', 'First', 'Last', 'Pay', 'Email', 'Tag'])\n",
    "        return df\n",
    "    \n",
    "    def __repr__(self):\n",
    "        return \"Employee('{}', '{}', {})\".format(self.first, self.last, self.pay)\n",
    "    \n",
    "    def __str__(self):\n",
    "        return '{} - {}'.format(self.fullname, self.email)\n",
    "    \n",
    "    def __len__(self):\n",
    "        return len(self.fullname())\n",
    "    \n",
    "class Developer(Employee):\n",
    "    raise_amt = 1.10\n",
    "    \n",
    "    def __init__(self, first, last, pay, prog_lang):\n",
    "        super().__init(first, last, pay)\n",
    "        self.prog_lang = prog_lang\n",
    "        self.tag = 'Developer'\n",
    "        \n",
    "class Manager(Employee):\n",
    "    raise_amt = 1.20\n",
    "    \n",
    "    def __init__(self, first, last, pay, employees=None):\n",
    "        super().__init__(first, last, pay)\n",
    "        if employees is None:\n",
    "            self.employees = []\n",
    "        else:\n",
    "            self.employees = employees\n",
    "        self.tag = 'Manager'\n",
    "            \n",
    "    def add_emp(self, emp):\n",
    "        if emp not in self.employees:\n",
    "            self.employees.append(emp)\n",
    "            \n",
    "    def add_emp(self, emp):\n",
    "        if emp in self.employees:\n",
    "            self.employees.remove(emp)\n",
    "            \n",
    "    def print_emps(self):\n",
    "        print([emp.fullname for emp in self.employees])"
   ]
  },
  {
   "cell_type": "markdown",
   "metadata": {},
   "source": [
    "## Create Random Employees"
   ]
  },
  {
   "cell_type": "code",
   "execution_count": 5,
   "metadata": {},
   "outputs": [],
   "source": [
    "for x in range(10):\n",
    "    Employee(names.get_first_name(), names.get_last_name(), random.randint(5, 9)*10000)"
   ]
  },
  {
   "cell_type": "code",
   "execution_count": 6,
   "metadata": {},
   "outputs": [
    {
     "data": {
      "text/html": [
       "<div>\n",
       "<style scoped>\n",
       "    .dataframe tbody tr th:only-of-type {\n",
       "        vertical-align: middle;\n",
       "    }\n",
       "\n",
       "    .dataframe tbody tr th {\n",
       "        vertical-align: top;\n",
       "    }\n",
       "\n",
       "    .dataframe thead th {\n",
       "        text-align: right;\n",
       "    }\n",
       "</style>\n",
       "<table border=\"1\" class=\"dataframe\">\n",
       "  <thead>\n",
       "    <tr style=\"text-align: right;\">\n",
       "      <th></th>\n",
       "      <th>ID</th>\n",
       "      <th>First</th>\n",
       "      <th>Last</th>\n",
       "      <th>Pay</th>\n",
       "      <th>Email</th>\n",
       "      <th>Tag</th>\n",
       "    </tr>\n",
       "  </thead>\n",
       "  <tbody>\n",
       "    <tr>\n",
       "      <th>0</th>\n",
       "      <td>1</td>\n",
       "      <td>Wilbert</td>\n",
       "      <td>Hagedorn</td>\n",
       "      <td>50000.0</td>\n",
       "      <td>wilbert.hagedorn@awesome.com</td>\n",
       "      <td>Employee</td>\n",
       "    </tr>\n",
       "    <tr>\n",
       "      <th>1</th>\n",
       "      <td>2</td>\n",
       "      <td>Andrew</td>\n",
       "      <td>Allison</td>\n",
       "      <td>90000.0</td>\n",
       "      <td>andrew.allison@awesome.com</td>\n",
       "      <td>Employee</td>\n",
       "    </tr>\n",
       "    <tr>\n",
       "      <th>2</th>\n",
       "      <td>3</td>\n",
       "      <td>Maria</td>\n",
       "      <td>Million</td>\n",
       "      <td>50000.0</td>\n",
       "      <td>maria.million@awesome.com</td>\n",
       "      <td>Employee</td>\n",
       "    </tr>\n",
       "    <tr>\n",
       "      <th>3</th>\n",
       "      <td>4</td>\n",
       "      <td>Vivan</td>\n",
       "      <td>Happel</td>\n",
       "      <td>80000.0</td>\n",
       "      <td>vivan.happel@awesome.com</td>\n",
       "      <td>Employee</td>\n",
       "    </tr>\n",
       "    <tr>\n",
       "      <th>4</th>\n",
       "      <td>5</td>\n",
       "      <td>Linda</td>\n",
       "      <td>Priest</td>\n",
       "      <td>60000.0</td>\n",
       "      <td>linda.priest@awesome.com</td>\n",
       "      <td>Employee</td>\n",
       "    </tr>\n",
       "    <tr>\n",
       "      <th>5</th>\n",
       "      <td>6</td>\n",
       "      <td>Earnestine</td>\n",
       "      <td>Knight</td>\n",
       "      <td>50000.0</td>\n",
       "      <td>earnestine.knight@awesome.com</td>\n",
       "      <td>Employee</td>\n",
       "    </tr>\n",
       "    <tr>\n",
       "      <th>6</th>\n",
       "      <td>7</td>\n",
       "      <td>David</td>\n",
       "      <td>Kim</td>\n",
       "      <td>60000.0</td>\n",
       "      <td>david.kim@awesome.com</td>\n",
       "      <td>Employee</td>\n",
       "    </tr>\n",
       "    <tr>\n",
       "      <th>7</th>\n",
       "      <td>8</td>\n",
       "      <td>Timothy</td>\n",
       "      <td>Rodriguez</td>\n",
       "      <td>80000.0</td>\n",
       "      <td>timothy.rodriguez@awesome.com</td>\n",
       "      <td>Employee</td>\n",
       "    </tr>\n",
       "    <tr>\n",
       "      <th>8</th>\n",
       "      <td>9</td>\n",
       "      <td>Maria</td>\n",
       "      <td>Flowers</td>\n",
       "      <td>50000.0</td>\n",
       "      <td>maria.flowers@awesome.com</td>\n",
       "      <td>Employee</td>\n",
       "    </tr>\n",
       "    <tr>\n",
       "      <th>9</th>\n",
       "      <td>10</td>\n",
       "      <td>Brandon</td>\n",
       "      <td>Cortez</td>\n",
       "      <td>70000.0</td>\n",
       "      <td>brandon.cortez@awesome.com</td>\n",
       "      <td>Employee</td>\n",
       "    </tr>\n",
       "  </tbody>\n",
       "</table>\n",
       "</div>"
      ],
      "text/plain": [
       "   ID       First       Last      Pay                          Email       Tag\n",
       "0   1     Wilbert   Hagedorn  50000.0   wilbert.hagedorn@awesome.com  Employee\n",
       "1   2      Andrew    Allison  90000.0     andrew.allison@awesome.com  Employee\n",
       "2   3       Maria    Million  50000.0      maria.million@awesome.com  Employee\n",
       "3   4       Vivan     Happel  80000.0       vivan.happel@awesome.com  Employee\n",
       "4   5       Linda     Priest  60000.0       linda.priest@awesome.com  Employee\n",
       "5   6  Earnestine     Knight  50000.0  earnestine.knight@awesome.com  Employee\n",
       "6   7       David        Kim  60000.0          david.kim@awesome.com  Employee\n",
       "7   8     Timothy  Rodriguez  80000.0  timothy.rodriguez@awesome.com  Employee\n",
       "8   9       Maria    Flowers  50000.0      maria.flowers@awesome.com  Employee\n",
       "9  10     Brandon     Cortez  70000.0     brandon.cortez@awesome.com  Employee"
      ]
     },
     "execution_count": 6,
     "metadata": {},
     "output_type": "execute_result"
    }
   ],
   "source": [
    "Employee.get_df()"
   ]
  },
  {
   "cell_type": "code",
   "execution_count": 8,
   "metadata": {},
   "outputs": [],
   "source": [
    "mang = Manager('Sue', 'Smith', 120000, Employee.emp_list[2:6])"
   ]
  },
  {
   "cell_type": "code",
   "execution_count": 9,
   "metadata": {},
   "outputs": [
    {
     "name": "stdout",
     "output_type": "stream",
     "text": [
      "['Carmen Hess', 'Debra Raneses', 'Israel Howard', 'Lee Spencer']\n"
     ]
    }
   ],
   "source": [
    "mang.print_emps()"
   ]
  },
  {
   "cell_type": "code",
   "execution_count": 10,
   "metadata": {},
   "outputs": [
    {
     "name": "stdout",
     "output_type": "stream",
     "text": [
      "Carmen Hess - carmen.hess@awesome.com\n"
     ]
    }
   ],
   "source": [
    "print(Employee.emp_list[2])"
   ]
  },
  {
   "cell_type": "code",
   "execution_count": 12,
   "metadata": {},
   "outputs": [],
   "source": [
    "Employee.emp_list[6].fire_emp()"
   ]
  },
  {
   "cell_type": "code",
   "execution_count": null,
   "metadata": {},
   "outputs": [],
   "source": []
  }
 ],
 "metadata": {
  "kernelspec": {
   "display_name": "Python 3",
   "language": "python",
   "name": "python3"
  },
  "language_info": {
   "codemirror_mode": {
    "name": "ipython",
    "version": 3
   },
   "file_extension": ".py",
   "mimetype": "text/x-python",
   "name": "python",
   "nbconvert_exporter": "python",
   "pygments_lexer": "ipython3",
   "version": "3.7.7"
  }
 },
 "nbformat": 4,
 "nbformat_minor": 4
}
