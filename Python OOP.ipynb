{
 "cells": [
  {
   "cell_type": "markdown",
   "metadata": {},
   "source": [
    "## Lib import"
   ]
  },
  {
   "cell_type": "code",
   "execution_count": 1,
   "metadata": {},
   "outputs": [],
   "source": [
    "import names\n",
    "import random\n",
    "import pandas as pd"
   ]
  },
  {
   "cell_type": "markdown",
   "metadata": {},
   "source": [
    "## Create Class"
   ]
  },
  {
   "cell_type": "code",
   "execution_count": 2,
   "metadata": {},
   "outputs": [],
   "source": [
    "class Employee:\n",
    "    \n",
    "    num_of_emps = 0\n",
    "    emp_list = []\n",
    "    raise_amt = 1.04    \n",
    "    last_id = 0\n",
    "    \n",
    "    def __init__(self, first, last, pay):\n",
    "        self.id = int(Employee.last_id+1)\n",
    "        self.first = first\n",
    "        self.last = last\n",
    "        self.pay = pay\n",
    "        self.tag = 'Employee'\n",
    "        Employee.emp_list.append(self)\n",
    "        Employee.num_of_emps = len(Employee.emp_list)\n",
    "        Employee.last_id += 1\n",
    "\n",
    "    def apply_raise(self):\n",
    "        self.pay = int(self.pay * self.raise_amount)\n",
    "        \n",
    "    def fire_emp(self):\n",
    "        Employee.emp_list.remove(self)\n",
    "        Employee.num_of_emps = len(Employee.emp_list)\n",
    "        del self\n",
    "        \n",
    "    @property\n",
    "    def email(self):\n",
    "        return '{}.{}@awesome.com'.format(self.first.lower(), self.last.lower())\n",
    "    \n",
    "    @property\n",
    "    def fullname(self):\n",
    "        return '{} {}'.format(self.first, self.last)\n",
    "    \n",
    "    @classmethod\n",
    "    def set_raise_amt(cls, amount):\n",
    "        cls.raise_amt = amount\n",
    "    \n",
    "    @classmethod\n",
    "    def get_df(cls):        \n",
    "        df = pd.DataFrame()\n",
    "        for emp in Employee.emp_list:\n",
    "            df = df.append({'ID': emp.id, 'First': emp.first, 'Last': emp.last, 'Pay': emp.pay, 'Email': emp.email, 'Tag': emp.tag}, ignore_index=True)\n",
    "            df = df.astype({'ID': int, 'Pay': float})\n",
    "            df = df.reindex(columns=['ID', 'First', 'Last', 'Pay', 'Email', 'Tag'])\n",
    "        return df\n",
    "    \n",
    "    def __repr__(self):\n",
    "        return \"Employee('{}', '{}', {})\".format(self.first, self.last, self.pay)\n",
    "    \n",
    "    def __str__(self):\n",
    "        return '{} - {}'.format(self.fullname, self.email)\n",
    "    \n",
    "    def __len__(self):\n",
    "        return len(self.fullname())\n",
    "    \n",
    "class Developer(Employee):\n",
    "    raise_amt = 1.10\n",
    "    \n",
    "    def __init__(self, first, last, pay, prog_lang):\n",
    "        super().__init(first, last, pay)\n",
    "        self.prog_lang = prog_lang\n",
    "        self.tag = 'Developer'\n",
    "        \n",
    "class Manager(Employee):\n",
    "    raise_amt = 1.20\n",
    "    \n",
    "    def __init__(self, first, last, pay, employees=None):\n",
    "        super().__init__(first, last, pay)\n",
    "        if employees is None:\n",
    "            self.employees = []\n",
    "        else:\n",
    "            self.employees = employees\n",
    "        self.tag = 'Manager'\n",
    "            \n",
    "    def add_emp(self, emp):\n",
    "        if emp not in self.employees:\n",
    "            self.employees.append(emp)\n",
    "            \n",
    "    def add_emp(self, emp):\n",
    "        if emp in self.employees:\n",
    "            self.employees.remove(emp)\n",
    "            \n",
    "    def print_emps(self):\n",
    "        print([emp.fullname for emp in self.employees])"
   ]
  },
  {
   "cell_type": "markdown",
   "metadata": {},
   "source": [
    "## Create Random Employees"
   ]
  },
  {
   "cell_type": "code",
   "execution_count": 8,
   "metadata": {},
   "outputs": [],
   "source": [
    "for x in range(100):\n",
    "    Employee(names.get_first_name(), names.get_last_name(), random.randint(5, 9)*10000)"
   ]
  },
  {
   "cell_type": "code",
   "execution_count": 9,
   "metadata": {},
   "outputs": [
    {
     "data": {
      "text/html": [
       "<div>\n",
       "<style scoped>\n",
       "    .dataframe tbody tr th:only-of-type {\n",
       "        vertical-align: middle;\n",
       "    }\n",
       "\n",
       "    .dataframe tbody tr th {\n",
       "        vertical-align: top;\n",
       "    }\n",
       "\n",
       "    .dataframe thead th {\n",
       "        text-align: right;\n",
       "    }\n",
       "</style>\n",
       "<table border=\"1\" class=\"dataframe\">\n",
       "  <thead>\n",
       "    <tr style=\"text-align: right;\">\n",
       "      <th></th>\n",
       "      <th>ID</th>\n",
       "      <th>First</th>\n",
       "      <th>Last</th>\n",
       "      <th>Pay</th>\n",
       "      <th>Email</th>\n",
       "      <th>Tag</th>\n",
       "    </tr>\n",
       "  </thead>\n",
       "  <tbody>\n",
       "    <tr>\n",
       "      <th>0</th>\n",
       "      <td>1</td>\n",
       "      <td>Frances</td>\n",
       "      <td>Palmer</td>\n",
       "      <td>70000.0</td>\n",
       "      <td>frances.palmer@awesome.com</td>\n",
       "      <td>Employee</td>\n",
       "    </tr>\n",
       "    <tr>\n",
       "      <th>1</th>\n",
       "      <td>2</td>\n",
       "      <td>Betty</td>\n",
       "      <td>Rousselle</td>\n",
       "      <td>90000.0</td>\n",
       "      <td>betty.rousselle@awesome.com</td>\n",
       "      <td>Employee</td>\n",
       "    </tr>\n",
       "    <tr>\n",
       "      <th>2</th>\n",
       "      <td>3</td>\n",
       "      <td>Dorine</td>\n",
       "      <td>Stewart</td>\n",
       "      <td>90000.0</td>\n",
       "      <td>dorine.stewart@awesome.com</td>\n",
       "      <td>Employee</td>\n",
       "    </tr>\n",
       "    <tr>\n",
       "      <th>3</th>\n",
       "      <td>4</td>\n",
       "      <td>Helen</td>\n",
       "      <td>Gibbs</td>\n",
       "      <td>90000.0</td>\n",
       "      <td>helen.gibbs@awesome.com</td>\n",
       "      <td>Employee</td>\n",
       "    </tr>\n",
       "    <tr>\n",
       "      <th>4</th>\n",
       "      <td>5</td>\n",
       "      <td>Scotty</td>\n",
       "      <td>Mcdevitt</td>\n",
       "      <td>80000.0</td>\n",
       "      <td>scotty.mcdevitt@awesome.com</td>\n",
       "      <td>Employee</td>\n",
       "    </tr>\n",
       "    <tr>\n",
       "      <th>...</th>\n",
       "      <td>...</td>\n",
       "      <td>...</td>\n",
       "      <td>...</td>\n",
       "      <td>...</td>\n",
       "      <td>...</td>\n",
       "      <td>...</td>\n",
       "    </tr>\n",
       "    <tr>\n",
       "      <th>106</th>\n",
       "      <td>107</td>\n",
       "      <td>Alicia</td>\n",
       "      <td>Nicodemus</td>\n",
       "      <td>90000.0</td>\n",
       "      <td>alicia.nicodemus@awesome.com</td>\n",
       "      <td>Employee</td>\n",
       "    </tr>\n",
       "    <tr>\n",
       "      <th>107</th>\n",
       "      <td>108</td>\n",
       "      <td>John</td>\n",
       "      <td>Shull</td>\n",
       "      <td>80000.0</td>\n",
       "      <td>john.shull@awesome.com</td>\n",
       "      <td>Employee</td>\n",
       "    </tr>\n",
       "    <tr>\n",
       "      <th>108</th>\n",
       "      <td>109</td>\n",
       "      <td>Donald</td>\n",
       "      <td>Sacks</td>\n",
       "      <td>50000.0</td>\n",
       "      <td>donald.sacks@awesome.com</td>\n",
       "      <td>Employee</td>\n",
       "    </tr>\n",
       "    <tr>\n",
       "      <th>109</th>\n",
       "      <td>110</td>\n",
       "      <td>Amy</td>\n",
       "      <td>Bonilla</td>\n",
       "      <td>50000.0</td>\n",
       "      <td>amy.bonilla@awesome.com</td>\n",
       "      <td>Employee</td>\n",
       "    </tr>\n",
       "    <tr>\n",
       "      <th>110</th>\n",
       "      <td>111</td>\n",
       "      <td>Jenifer</td>\n",
       "      <td>Hardter</td>\n",
       "      <td>80000.0</td>\n",
       "      <td>jenifer.hardter@awesome.com</td>\n",
       "      <td>Employee</td>\n",
       "    </tr>\n",
       "  </tbody>\n",
       "</table>\n",
       "<p>111 rows × 6 columns</p>\n",
       "</div>"
      ],
      "text/plain": [
       "      ID    First       Last      Pay                         Email       Tag\n",
       "0      1  Frances     Palmer  70000.0    frances.palmer@awesome.com  Employee\n",
       "1      2    Betty  Rousselle  90000.0   betty.rousselle@awesome.com  Employee\n",
       "2      3   Dorine    Stewart  90000.0    dorine.stewart@awesome.com  Employee\n",
       "3      4    Helen      Gibbs  90000.0       helen.gibbs@awesome.com  Employee\n",
       "4      5   Scotty   Mcdevitt  80000.0   scotty.mcdevitt@awesome.com  Employee\n",
       "..   ...      ...        ...      ...                           ...       ...\n",
       "106  107   Alicia  Nicodemus  90000.0  alicia.nicodemus@awesome.com  Employee\n",
       "107  108     John      Shull  80000.0        john.shull@awesome.com  Employee\n",
       "108  109   Donald      Sacks  50000.0      donald.sacks@awesome.com  Employee\n",
       "109  110      Amy    Bonilla  50000.0       amy.bonilla@awesome.com  Employee\n",
       "110  111  Jenifer    Hardter  80000.0   jenifer.hardter@awesome.com  Employee\n",
       "\n",
       "[111 rows x 6 columns]"
      ]
     },
     "execution_count": 9,
     "metadata": {},
     "output_type": "execute_result"
    }
   ],
   "source": [
    "Employee.get_df()"
   ]
  },
  {
   "cell_type": "code",
   "execution_count": 5,
   "metadata": {},
   "outputs": [],
   "source": [
    "mang = Manager('Sue', 'Smith', 120000, Employee.emp_list[2:6])"
   ]
  },
  {
   "cell_type": "code",
   "execution_count": 6,
   "metadata": {},
   "outputs": [
    {
     "name": "stdout",
     "output_type": "stream",
     "text": [
      "['Dorine Stewart', 'Helen Gibbs', 'Scotty Mcdevitt', 'Bryan Fields']\n"
     ]
    }
   ],
   "source": [
    "mang.print_emps()"
   ]
  },
  {
   "cell_type": "code",
   "execution_count": 7,
   "metadata": {},
   "outputs": [
    {
     "name": "stdout",
     "output_type": "stream",
     "text": [
      "Dorine Stewart - dorine.stewart@awesome.com\n"
     ]
    }
   ],
   "source": [
    "print(Employee.emp_list[2])"
   ]
  },
  {
   "cell_type": "code",
   "execution_count": null,
   "metadata": {},
   "outputs": [],
   "source": []
  },
  {
   "cell_type": "code",
   "execution_count": null,
   "metadata": {},
   "outputs": [],
   "source": []
  }
 ],
 "metadata": {
  "kernelspec": {
   "display_name": "Python 3",
   "language": "python",
   "name": "python3"
  },
  "language_info": {
   "codemirror_mode": {
    "name": "ipython",
    "version": 3
   },
   "file_extension": ".py",
   "mimetype": "text/x-python",
   "name": "python",
   "nbconvert_exporter": "python",
   "pygments_lexer": "ipython3",
   "version": "3.7.7"
  }
 },
 "nbformat": 4,
 "nbformat_minor": 4
}
